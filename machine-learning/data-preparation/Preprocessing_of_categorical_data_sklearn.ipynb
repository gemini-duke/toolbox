{
  "nbformat": 4,
  "nbformat_minor": 0,
  "metadata": {
    "colab": {
      "name": "Preprocessing of categorical data - sklearn.ipynb",
      "provenance": []
    },
    "kernelspec": {
      "name": "python3",
      "display_name": "Python 3"
    },
    "language_info": {
      "name": "python"
    }
  },
  "cells": [
    {
      "cell_type": "markdown",
      "metadata": {
        "id": "ICqic8qLVquk"
      },
      "source": [
        "# Preparation"
      ]
    },
    {
      "cell_type": "markdown",
      "metadata": {
        "id": "sCW97lc-Vc4O"
      },
      "source": [
        "## Import packages"
      ]
    },
    {
      "cell_type": "code",
      "metadata": {
        "id": "khYiqFSxu8kY"
      },
      "source": [
        "# pandas is a package most used for managing and organizing data\n",
        "import pandas as pd\n",
        "# numpy is a package used for numerical operations\n",
        "import numpy as np\n",
        "# matplotlib and seaborn are packages for ploting graphs\n",
        "import matplotlib.pyplot as plt\n",
        "import seaborn as sns\n",
        "import matplotlib as mpl\n",
        "# # scikit-learn is a package with many machine learning applications\n",
        "# import sklearn as sk \n",
        "# Ignoring warnings for reading purposes\n",
        "import warnings\n",
        "warnings.filterwarnings(\"ignore\")"
      ],
      "execution_count": 1,
      "outputs": []
    },
    {
      "cell_type": "markdown",
      "metadata": {
        "id": "6xDtpJ2oviPc"
      },
      "source": [
        "## Versions"
      ]
    },
    {
      "cell_type": "code",
      "metadata": {
        "colab": {
          "base_uri": "https://localhost:8080/"
        },
        "id": "ttmJXP4kveWK",
        "outputId": "69a4070d-774f-49f4-9a4e-962b98f56d01"
      },
      "source": [
        "# Python version in use\n",
        "!python --version"
      ],
      "execution_count": 2,
      "outputs": [
        {
          "output_type": "stream",
          "name": "stdout",
          "text": [
            "Python 3.7.11\n"
          ]
        }
      ]
    },
    {
      "cell_type": "code",
      "metadata": {
        "colab": {
          "base_uri": "https://localhost:8080/"
        },
        "id": "qeYFJkwuvnnj",
        "outputId": "cbff6961-b79b-4631-91d4-389cad9d314d"
      },
      "source": [
        "print('The Pandas version utilized in this example is -',pd.__version__)\n",
        "print('The Matplotlib version utilized in this example is -',mpl.__version__)\n",
        "print('The Seaborn version utilized in this example is -',sns.__version__)\n",
        "print('The Numpy version utilized in this example is -',np.__version__)"
      ],
      "execution_count": 3,
      "outputs": [
        {
          "output_type": "stream",
          "name": "stdout",
          "text": [
            "The Pandas version utilized in this example is - 1.1.5\n",
            "The Matplotlib version utilized in this example is - 3.2.2\n",
            "The Seaborn version utilized in this example is - 0.11.1\n",
            "The Numpy version utilized in this example is - 1.19.5\n"
          ]
        }
      ]
    },
    {
      "cell_type": "markdown",
      "metadata": {
        "id": "nM-NtDF49upm"
      },
      "source": [
        "Installing a more recent version of sklearn"
      ]
    },
    {
      "cell_type": "code",
      "metadata": {
        "colab": {
          "base_uri": "https://localhost:8080/"
        },
        "id": "_pwjH5Ry9t-6",
        "outputId": "74753933-c3f0-49ea-fdc7-fd6a46bd5bb6"
      },
      "source": [
        "!pip install scikit-learn==0.24.1 > y\n",
        "import sklearn as sk\n",
        "print(sk.__version__)\n",
        "print('The Sklearn version utilized in this example is -',sk.__version__)"
      ],
      "execution_count": 4,
      "outputs": [
        {
          "output_type": "stream",
          "name": "stdout",
          "text": [
            "0.24.1\n",
            "The Sklearn version utilized in this example is - 0.24.1\n"
          ]
        }
      ]
    },
    {
      "cell_type": "markdown",
      "metadata": {
        "id": "6ni0h5XAwRq2"
      },
      "source": [
        "## Data"
      ]
    },
    {
      "cell_type": "markdown",
      "metadata": {
        "id": "dTvkRMbLv_RS"
      },
      "source": [
        "This dataset is originally from the National Institute of Diabetes and Digestive and Kidney Diseases. The objective of the dataset is to diagnostically predict whether or not a patient has diabetes, based on certain diagnostic measurements included in the dataset. Several constraints were placed on the selection of these instances from a larger database. In particular, all patients here are **females at least 21 years** old of Pima Indian heritage.\n",
        "\n",
        "This dataset can be found on [Kaggle](https://www.kaggle.com/uciml/pima-indians-diabetes-database)."
      ]
    },
    {
      "cell_type": "code",
      "metadata": {
        "id": "SBE3sIu8wVN4"
      },
      "source": [
        "# Getting the url of the dataset stored on the GEMINI github\n",
        "url = \"https://github.com/gemini-duke/toolbox/blob/main/machine-learning/data-preparation/diabetes_kaggle.zip?raw=true\""
      ],
      "execution_count": 5,
      "outputs": []
    },
    {
      "cell_type": "code",
      "metadata": {
        "id": "l87uCMuWxPDV"
      },
      "source": [
        "# reading data using the pandas package.\n",
        "# the dataset is compressed in a zip file, so we need to use compression=\"zip\"\n",
        "data = pd.read_csv(url, compression=\"zip\")"
      ],
      "execution_count": 6,
      "outputs": []
    },
    {
      "cell_type": "code",
      "metadata": {
        "colab": {
          "base_uri": "https://localhost:8080/",
          "height": 206
        },
        "id": "tF8yBSDQwVFi",
        "outputId": "61a38e1d-27fe-4a46-87d8-4a24d8d8ff8b"
      },
      "source": [
        "data.head()"
      ],
      "execution_count": 7,
      "outputs": [
        {
          "output_type": "execute_result",
          "data": {
            "text/html": [
              "<div>\n",
              "<style scoped>\n",
              "    .dataframe tbody tr th:only-of-type {\n",
              "        vertical-align: middle;\n",
              "    }\n",
              "\n",
              "    .dataframe tbody tr th {\n",
              "        vertical-align: top;\n",
              "    }\n",
              "\n",
              "    .dataframe thead th {\n",
              "        text-align: right;\n",
              "    }\n",
              "</style>\n",
              "<table border=\"1\" class=\"dataframe\">\n",
              "  <thead>\n",
              "    <tr style=\"text-align: right;\">\n",
              "      <th></th>\n",
              "      <th>Pregnancies</th>\n",
              "      <th>Glucose</th>\n",
              "      <th>BloodPressure</th>\n",
              "      <th>SkinThickness</th>\n",
              "      <th>Insulin</th>\n",
              "      <th>BMI</th>\n",
              "      <th>DiabetesPedigreeFunction</th>\n",
              "      <th>Age</th>\n",
              "      <th>Outcome</th>\n",
              "    </tr>\n",
              "  </thead>\n",
              "  <tbody>\n",
              "    <tr>\n",
              "      <th>0</th>\n",
              "      <td>6</td>\n",
              "      <td>148</td>\n",
              "      <td>72</td>\n",
              "      <td>35</td>\n",
              "      <td>0</td>\n",
              "      <td>33.6</td>\n",
              "      <td>0.627</td>\n",
              "      <td>50</td>\n",
              "      <td>1</td>\n",
              "    </tr>\n",
              "    <tr>\n",
              "      <th>1</th>\n",
              "      <td>1</td>\n",
              "      <td>85</td>\n",
              "      <td>66</td>\n",
              "      <td>29</td>\n",
              "      <td>0</td>\n",
              "      <td>26.6</td>\n",
              "      <td>0.351</td>\n",
              "      <td>31</td>\n",
              "      <td>0</td>\n",
              "    </tr>\n",
              "    <tr>\n",
              "      <th>2</th>\n",
              "      <td>8</td>\n",
              "      <td>183</td>\n",
              "      <td>64</td>\n",
              "      <td>0</td>\n",
              "      <td>0</td>\n",
              "      <td>23.3</td>\n",
              "      <td>0.672</td>\n",
              "      <td>32</td>\n",
              "      <td>1</td>\n",
              "    </tr>\n",
              "    <tr>\n",
              "      <th>3</th>\n",
              "      <td>1</td>\n",
              "      <td>89</td>\n",
              "      <td>66</td>\n",
              "      <td>23</td>\n",
              "      <td>94</td>\n",
              "      <td>28.1</td>\n",
              "      <td>0.167</td>\n",
              "      <td>21</td>\n",
              "      <td>0</td>\n",
              "    </tr>\n",
              "    <tr>\n",
              "      <th>4</th>\n",
              "      <td>0</td>\n",
              "      <td>137</td>\n",
              "      <td>40</td>\n",
              "      <td>35</td>\n",
              "      <td>168</td>\n",
              "      <td>43.1</td>\n",
              "      <td>2.288</td>\n",
              "      <td>33</td>\n",
              "      <td>1</td>\n",
              "    </tr>\n",
              "  </tbody>\n",
              "</table>\n",
              "</div>"
            ],
            "text/plain": [
              "   Pregnancies  Glucose  BloodPressure  ...  DiabetesPedigreeFunction  Age  Outcome\n",
              "0            6      148             72  ...                     0.627   50        1\n",
              "1            1       85             66  ...                     0.351   31        0\n",
              "2            8      183             64  ...                     0.672   32        1\n",
              "3            1       89             66  ...                     0.167   21        0\n",
              "4            0      137             40  ...                     2.288   33        1\n",
              "\n",
              "[5 rows x 9 columns]"
            ]
          },
          "metadata": {},
          "execution_count": 7
        }
      ]
    },
    {
      "cell_type": "markdown",
      "metadata": {
        "id": "i6bRK2RPybed"
      },
      "source": [
        "Our dataset has 8 features (`Pregnancies, Glucose,BloodPressure, SkinThickness, Insulin, BMI,DiabetesPedigreeFunction, Age`) and the `Outcome`.\n"
      ]
    },
    {
      "cell_type": "markdown",
      "metadata": {
        "id": "GmygyA6JIcZ3"
      },
      "source": [
        "### Recoding null values\n",
        "Some variables have null values that were coded as \"0\" instead of NaN."
      ]
    },
    {
      "cell_type": "code",
      "metadata": {
        "id": "OOy4XYMoHgRr"
      },
      "source": [
        "fill_na = ['Glucose', 'BloodPressure', 'SkinThickness', 'Insulin', 'BMI',\n",
        "           'DiabetesPedigreeFunction']"
      ],
      "execution_count": 8,
      "outputs": []
    },
    {
      "cell_type": "code",
      "metadata": {
        "id": "QVGBQMEoIvaY"
      },
      "source": [
        "data[fill_na] = data[fill_na].replace(0, np.nan)"
      ],
      "execution_count": 9,
      "outputs": []
    },
    {
      "cell_type": "markdown",
      "metadata": {
        "id": "FUTtxwAqFe9n"
      },
      "source": [
        "### Changing mumeric features for categorical\n",
        "\n",
        "All of our features are numeric. I will build **extra features that are categorical** so we have different data types to handle."
      ]
    },
    {
      "cell_type": "markdown",
      "metadata": {
        "id": "5o426PGYzuPr"
      },
      "source": [
        "#### Age categories"
      ]
    },
    {
      "cell_type": "code",
      "metadata": {
        "id": "kC8hwneYzwlB"
      },
      "source": [
        "data[\"AgeClass\"] = pd.cut(data.Age, bins=[18, 29,49,64, 500], \n",
        "                       labels=[\"18 to 29 years\", \"30 to 49 years\", \n",
        "                               \"50 to 64 years\", \"65 or more\"],\n",
        "                       include_lowest=True).astype(\"object\")"
      ],
      "execution_count": 10,
      "outputs": []
    },
    {
      "cell_type": "code",
      "metadata": {
        "colab": {
          "base_uri": "https://localhost:8080/"
        },
        "id": "aLjXZG1w1IfO",
        "outputId": "a97392cc-21ea-4e22-e104-fe4461b9b1c0"
      },
      "source": [
        "data[\"AgeClass\"].value_counts()"
      ],
      "execution_count": 11,
      "outputs": [
        {
          "output_type": "execute_result",
          "data": {
            "text/plain": [
              "18 to 29 years    396\n",
              "30 to 49 years    283\n",
              "50 to 64 years     73\n",
              "65 or more         16\n",
              "Name: AgeClass, dtype: int64"
            ]
          },
          "metadata": {},
          "execution_count": 11
        }
      ]
    },
    {
      "cell_type": "markdown",
      "metadata": {
        "id": "GYEESZ_VL1Gi"
      },
      "source": [
        "Dropping the original Age"
      ]
    },
    {
      "cell_type": "code",
      "metadata": {
        "id": "PWjcnAOGLnp_"
      },
      "source": [
        "data = data.drop('Age', axis=1)"
      ],
      "execution_count": 12,
      "outputs": []
    },
    {
      "cell_type": "markdown",
      "metadata": {
        "id": "t026TzdC0OvU"
      },
      "source": [
        "#### BMI classification"
      ]
    },
    {
      "cell_type": "code",
      "metadata": {
        "id": "ua5F2Vfw1bYu"
      },
      "source": [
        "data[\"BMIClass\"] = pd.cut(data.BMI, bins=[0, 18.4, 24.9, 29.9, 34.9, 40, 500],\n",
        "                      labels=[\"Underweight\", \"Normal weight\", \"Pre-obesity\",\n",
        "                              \"Obesity class I\",\"Obesity class II\", \"Obesity class III\"],\n",
        "                          include_lowest=True).astype(\"object\")"
      ],
      "execution_count": 13,
      "outputs": []
    },
    {
      "cell_type": "code",
      "metadata": {
        "colab": {
          "base_uri": "https://localhost:8080/"
        },
        "id": "BTOMuFqnLrPH",
        "outputId": "ce86bf70-c155-4d0b-d89a-13c802a6b847"
      },
      "source": [
        "data[\"BMIClass\"].value_counts()"
      ],
      "execution_count": 14,
      "outputs": [
        {
          "output_type": "execute_result",
          "data": {
            "text/plain": [
              "Obesity class I      224\n",
              "Pre-obesity          179\n",
              "Obesity class II     152\n",
              "Normal weight        102\n",
              "Obesity class III     96\n",
              "Underweight            4\n",
              "Name: BMIClass, dtype: int64"
            ]
          },
          "metadata": {},
          "execution_count": 14
        }
      ]
    },
    {
      "cell_type": "markdown",
      "metadata": {
        "id": "HESFYFuyLyjS"
      },
      "source": [
        "Drop the original BMI"
      ]
    },
    {
      "cell_type": "code",
      "metadata": {
        "id": "3vj7aSgwLrMf"
      },
      "source": [
        "data = data.drop('BMI', axis=1)"
      ],
      "execution_count": 15,
      "outputs": []
    },
    {
      "cell_type": "markdown",
      "metadata": {
        "id": "aoHd165VK_pU"
      },
      "source": [
        "## Spliting data in train and test"
      ]
    },
    {
      "cell_type": "code",
      "metadata": {
        "id": "uxu7bVgvLD_h"
      },
      "source": [
        "from sklearn.model_selection import train_test_split"
      ],
      "execution_count": 16,
      "outputs": []
    },
    {
      "cell_type": "markdown",
      "metadata": {
        "id": "cIpwHL0hLabQ"
      },
      "source": [
        "Splitting our features and our target"
      ]
    },
    {
      "cell_type": "code",
      "metadata": {
        "id": "AAv7gGRwMJ4J"
      },
      "source": [
        "# Features\n",
        "X = data.drop('Outcome', axis=1).copy()\n",
        "# Target\n",
        "y = data.Outcome.copy()"
      ],
      "execution_count": 17,
      "outputs": []
    },
    {
      "cell_type": "markdown",
      "metadata": {
        "id": "DJs9tQkRNicH"
      },
      "source": [
        "Splitting the train and test set. Considering that we have a classification problem, it is important to ensure the stratification of our target"
      ]
    },
    {
      "cell_type": "code",
      "metadata": {
        "id": "yYDEe03SLMfN"
      },
      "source": [
        "seed = np.random.seed(42)\n",
        "\n",
        "X_train, X_test, y_train, y_test = train_test_split(X, y, stratify=y, \n",
        "                                                    test_size=0.2)"
      ],
      "execution_count": 18,
      "outputs": []
    },
    {
      "cell_type": "markdown",
      "metadata": {
        "id": "5kfme8J0V-Pe"
      },
      "source": [
        "# Transforming categorical data"
      ]
    },
    {
      "cell_type": "code",
      "metadata": {
        "colab": {
          "base_uri": "https://localhost:8080/"
        },
        "id": "nvX25o_9NpgW",
        "outputId": "d14fdb97-d7bd-4f0b-e856-c215da69ef3d"
      },
      "source": [
        "print(f\"Shape of the X_train set {X_train.shape}\")\n",
        "print(f\"Shape of the X_test set {X_test.shape}\\n\")\n",
        "print(f\"Shape of the y_train set {y_train.shape}\")\n",
        "print(f\"Shape of the y_test set {y_test.shape}\")"
      ],
      "execution_count": 19,
      "outputs": [
        {
          "output_type": "stream",
          "name": "stdout",
          "text": [
            "Shape of the X_train set (614, 8)\n",
            "Shape of the X_test set (154, 8)\n",
            "\n",
            "Shape of the y_train set (614,)\n",
            "Shape of the y_test set (154,)\n"
          ]
        }
      ]
    },
    {
      "cell_type": "markdown",
      "metadata": {
        "id": "2eerjPznWJ_G"
      },
      "source": [
        "Getting the categorical features"
      ]
    },
    {
      "cell_type": "code",
      "metadata": {
        "colab": {
          "base_uri": "https://localhost:8080/"
        },
        "id": "FvlPnOvTWJ8n",
        "outputId": "d1072cbc-c2d7-4ded-dcc2-352d2e22b532"
      },
      "source": [
        "# Getting the categorical features\n",
        "categorical = [col for col in X.columns if X[col].dtype == \"object\"]\n",
        "categorical"
      ],
      "execution_count": 20,
      "outputs": [
        {
          "output_type": "execute_result",
          "data": {
            "text/plain": [
              "['AgeClass', 'BMIClass']"
            ]
          },
          "metadata": {},
          "execution_count": 20
        }
      ]
    },
    {
      "cell_type": "markdown",
      "metadata": {
        "id": "T9Ypv8bumDMO"
      },
      "source": [
        "### Imputing missing values\n",
        "The `SimpleImputer` class from scikitlearn can impute categorical data considering the **most frequent class** or some **specific value**. I will show examples of both applications."
      ]
    },
    {
      "cell_type": "markdown",
      "metadata": {
        "id": "Vpap0WKLnDW-"
      },
      "source": [
        "Checking misisng values"
      ]
    },
    {
      "cell_type": "code",
      "metadata": {
        "colab": {
          "base_uri": "https://localhost:8080/"
        },
        "id": "nO9GV4zemIl4",
        "outputId": "4c1d22ba-125f-4741-880e-cfa9c040712a"
      },
      "source": [
        "data[categorical].isna().sum()"
      ],
      "execution_count": 21,
      "outputs": [
        {
          "output_type": "execute_result",
          "data": {
            "text/plain": [
              "AgeClass     0\n",
              "BMIClass    11\n",
              "dtype: int64"
            ]
          },
          "metadata": {},
          "execution_count": 21
        }
      ]
    },
    {
      "cell_type": "code",
      "metadata": {
        "id": "JuJ8WMUBmSfg"
      },
      "source": [
        "# Importing the imputer\n",
        "from sklearn.impute import SimpleImputer"
      ],
      "execution_count": 22,
      "outputs": []
    },
    {
      "cell_type": "code",
      "metadata": {
        "id": "Htq9zv9tmUyj"
      },
      "source": [
        "# defining the imputer to impute a \"missing\" for every entry that is null\n",
        "imp_value = SimpleImputer(strategy=\"constrant\", fill_value=\"missing\")\n",
        "\n",
        "# defining the imputer with most_frequent as the strategy\n",
        "imp_frequent = SimpleImputer(strategy=\"most_frequent\")\n"
      ],
      "execution_count": 23,
      "outputs": []
    },
    {
      "cell_type": "markdown",
      "metadata": {
        "id": "zGPTxsOAjFJP"
      },
      "source": [
        "Every transfomer in sklearn has three methods:\n",
        "* `fit()`: the transformer learns the classes or values to be used for transforming the data. **Should only be used on the train set** to avoid data leakage.\n",
        "* `transform()`: transform the variables using the information gathered on the fit step. **Should be used in both sets**;\n",
        "* `fit_transform()`: performs the fit and transform steps simultaneously. **Should only be used in the train set**, and the the `transform()` method can be used on the test set.\n",
        "\n",
        "***\n",
        "Here is how it can be done."
      ]
    },
    {
      "cell_type": "code",
      "metadata": {
        "id": "CHhkt6H2m_BX"
      },
      "source": [
        "# Fit and transforming the imp_frequent object with the X_train set\n",
        "X_train[categorical] = imp_frequent.fit_transform(X_train[categorical])\n",
        "\n",
        "# After fit and transforming the categorical variables of the train_set\n",
        "# we can **transform** the test set\n",
        "X_test[categorical] = imp_frequent.transform(X_test[categorical])"
      ],
      "execution_count": 24,
      "outputs": []
    },
    {
      "cell_type": "markdown",
      "metadata": {
        "id": "ZzwLp53-pxRe"
      },
      "source": [
        "Now we have no missing values "
      ]
    },
    {
      "cell_type": "code",
      "metadata": {
        "colab": {
          "base_uri": "https://localhost:8080/"
        },
        "id": "Z6J60mJJpt0U",
        "outputId": "5a40c9d3-cd1f-4b7b-9e4e-f705624eddf7"
      },
      "source": [
        "X_train[categorical].isna().sum()"
      ],
      "execution_count": 25,
      "outputs": [
        {
          "output_type": "execute_result",
          "data": {
            "text/plain": [
              "AgeClass    0\n",
              "BMIClass    0\n",
              "dtype: int64"
            ]
          },
          "metadata": {},
          "execution_count": 25
        }
      ]
    },
    {
      "cell_type": "code",
      "metadata": {
        "colab": {
          "base_uri": "https://localhost:8080/"
        },
        "id": "seV7o-ZWp9_7",
        "outputId": "6b5a0194-7d3c-4440-fffb-c823ded808fe"
      },
      "source": [
        "X_test[categorical].isna().sum()"
      ],
      "execution_count": 26,
      "outputs": [
        {
          "output_type": "execute_result",
          "data": {
            "text/plain": [
              "AgeClass    0\n",
              "BMIClass    0\n",
              "dtype: int64"
            ]
          },
          "metadata": {},
          "execution_count": 26
        }
      ]
    },
    {
      "cell_type": "markdown",
      "metadata": {
        "id": "XUk7_jK6WU5D"
      },
      "source": [
        "### One hot encoding (OHE)\n",
        "OHE is a method that creates new features based on each class present in categorical variables. This is important to **represent categorical data** and often **increase performance of machine learning models**. OHE is also referred as creating \"dummy variables\" or \"dummyfication\".\n",
        "\n",
        "***\n",
        "\n",
        "![img](https://i.imgur.com/mtimFxh.png)"
      ]
    },
    {
      "cell_type": "markdown",
      "metadata": {
        "id": "kmy1Y9bTqKr1"
      },
      "source": [
        "Importing the encoder\n"
      ]
    },
    {
      "cell_type": "code",
      "metadata": {
        "id": "72ksudYTWJ5_"
      },
      "source": [
        "from sklearn.preprocessing import OneHotEncoder"
      ],
      "execution_count": 27,
      "outputs": []
    },
    {
      "cell_type": "markdown",
      "metadata": {
        "id": "wLJQ_NrAqMnY"
      },
      "source": [
        "Here I specify that do not want a sparse matrix and that unknow categories in the test set should be ignoredm which will encode them as 0"
      ]
    },
    {
      "cell_type": "code",
      "metadata": {
        "id": "PQW8jJf5WJ3J"
      },
      "source": [
        "# naming the encoder\n",
        "ohe = OneHotEncoder(sparse=False, handle_unknown='ignore')"
      ],
      "execution_count": 28,
      "outputs": []
    },
    {
      "cell_type": "markdown",
      "metadata": {
        "id": "ZTcYYL1ov0K2"
      },
      "source": [
        "Fitting and transforming to the training data"
      ]
    },
    {
      "cell_type": "code",
      "metadata": {
        "id": "rt5lwKbYj5J-"
      },
      "source": [
        "cat_train_transformed = ohe.fit_transform(X_train[categorical])"
      ],
      "execution_count": 29,
      "outputs": []
    },
    {
      "cell_type": "code",
      "metadata": {
        "colab": {
          "base_uri": "https://localhost:8080/"
        },
        "id": "SC2RTRe8zCUD",
        "outputId": "a29091b4-62ad-4a15-dfe6-9bd7d57f645d"
      },
      "source": [
        "cat_train_transformed"
      ],
      "execution_count": 30,
      "outputs": [
        {
          "output_type": "execute_result",
          "data": {
            "text/plain": [
              "array([[1., 0., 0., ..., 0., 1., 0.],\n",
              "       [0., 1., 0., ..., 0., 1., 0.],\n",
              "       [1., 0., 0., ..., 0., 0., 0.],\n",
              "       ...,\n",
              "       [0., 1., 0., ..., 0., 0., 0.],\n",
              "       [0., 1., 0., ..., 0., 1., 0.],\n",
              "       [0., 1., 0., ..., 0., 1., 0.]])"
            ]
          },
          "metadata": {},
          "execution_count": 30
        }
      ]
    },
    {
      "cell_type": "markdown",
      "metadata": {
        "id": "jW8wcdv2v24_"
      },
      "source": [
        "Transforming the test data"
      ]
    },
    {
      "cell_type": "code",
      "metadata": {
        "id": "jV7iHZwAvZ_g"
      },
      "source": [
        "cat_test_transformed = ohe.transform(X_test[categorical])"
      ],
      "execution_count": 31,
      "outputs": []
    },
    {
      "cell_type": "code",
      "metadata": {
        "colab": {
          "base_uri": "https://localhost:8080/"
        },
        "id": "DFB02KK9kHp4",
        "outputId": "b70b6001-7dd8-4530-9429-6867ce1601ce"
      },
      "source": [
        "cat_test_transformed"
      ],
      "execution_count": 32,
      "outputs": [
        {
          "output_type": "execute_result",
          "data": {
            "text/plain": [
              "array([[0., 1., 0., ..., 0., 1., 0.],\n",
              "       [0., 1., 0., ..., 0., 0., 0.],\n",
              "       [1., 0., 0., ..., 0., 0., 0.],\n",
              "       ...,\n",
              "       [1., 0., 0., ..., 0., 1., 0.],\n",
              "       [0., 1., 0., ..., 0., 0., 0.],\n",
              "       [1., 0., 0., ..., 0., 0., 0.]])"
            ]
          },
          "metadata": {},
          "execution_count": 32
        }
      ]
    },
    {
      "cell_type": "markdown",
      "metadata": {
        "id": "s7UeFo_tzE5J"
      },
      "source": [
        "The output of the transformation is a numpy array. The lack of column names makes it difficul to work with. In this sense, we could transform it back to a pandas dataframe using the category name used to encode"
      ]
    },
    {
      "cell_type": "code",
      "metadata": {
        "id": "YH2I_ieLymYm"
      },
      "source": [
        "cols = list(ohe.categories_[0]) + list(ohe.categories_[1])"
      ],
      "execution_count": 33,
      "outputs": []
    },
    {
      "cell_type": "markdown",
      "metadata": {
        "id": "IdHAxHtH0Sq6"
      },
      "source": [
        "Dataframe for the train set"
      ]
    },
    {
      "cell_type": "code",
      "metadata": {
        "id": "1_4dl1UAx-g7"
      },
      "source": [
        "cat_train = pd.DataFrame(cat_train_transformed, index=X_train.index, columns=cols)"
      ],
      "execution_count": 34,
      "outputs": []
    },
    {
      "cell_type": "code",
      "metadata": {
        "colab": {
          "base_uri": "https://localhost:8080/",
          "height": 223
        },
        "id": "pVSGNhT00bVG",
        "outputId": "f9b937fa-e2f1-4390-d85b-97477738152a"
      },
      "source": [
        "cat_train.head()"
      ],
      "execution_count": 35,
      "outputs": [
        {
          "output_type": "execute_result",
          "data": {
            "text/html": [
              "<div>\n",
              "<style scoped>\n",
              "    .dataframe tbody tr th:only-of-type {\n",
              "        vertical-align: middle;\n",
              "    }\n",
              "\n",
              "    .dataframe tbody tr th {\n",
              "        vertical-align: top;\n",
              "    }\n",
              "\n",
              "    .dataframe thead th {\n",
              "        text-align: right;\n",
              "    }\n",
              "</style>\n",
              "<table border=\"1\" class=\"dataframe\">\n",
              "  <thead>\n",
              "    <tr style=\"text-align: right;\">\n",
              "      <th></th>\n",
              "      <th>18 to 29 years</th>\n",
              "      <th>30 to 49 years</th>\n",
              "      <th>50 to 64 years</th>\n",
              "      <th>65 or more</th>\n",
              "      <th>Normal weight</th>\n",
              "      <th>Obesity class I</th>\n",
              "      <th>Obesity class II</th>\n",
              "      <th>Obesity class III</th>\n",
              "      <th>Pre-obesity</th>\n",
              "      <th>Underweight</th>\n",
              "    </tr>\n",
              "  </thead>\n",
              "  <tbody>\n",
              "    <tr>\n",
              "      <th>353</th>\n",
              "      <td>1.0</td>\n",
              "      <td>0.0</td>\n",
              "      <td>0.0</td>\n",
              "      <td>0.0</td>\n",
              "      <td>0.0</td>\n",
              "      <td>0.0</td>\n",
              "      <td>0.0</td>\n",
              "      <td>0.0</td>\n",
              "      <td>1.0</td>\n",
              "      <td>0.0</td>\n",
              "    </tr>\n",
              "    <tr>\n",
              "      <th>711</th>\n",
              "      <td>0.0</td>\n",
              "      <td>1.0</td>\n",
              "      <td>0.0</td>\n",
              "      <td>0.0</td>\n",
              "      <td>0.0</td>\n",
              "      <td>0.0</td>\n",
              "      <td>0.0</td>\n",
              "      <td>0.0</td>\n",
              "      <td>1.0</td>\n",
              "      <td>0.0</td>\n",
              "    </tr>\n",
              "    <tr>\n",
              "      <th>373</th>\n",
              "      <td>1.0</td>\n",
              "      <td>0.0</td>\n",
              "      <td>0.0</td>\n",
              "      <td>0.0</td>\n",
              "      <td>0.0</td>\n",
              "      <td>1.0</td>\n",
              "      <td>0.0</td>\n",
              "      <td>0.0</td>\n",
              "      <td>0.0</td>\n",
              "      <td>0.0</td>\n",
              "    </tr>\n",
              "    <tr>\n",
              "      <th>46</th>\n",
              "      <td>1.0</td>\n",
              "      <td>0.0</td>\n",
              "      <td>0.0</td>\n",
              "      <td>0.0</td>\n",
              "      <td>0.0</td>\n",
              "      <td>0.0</td>\n",
              "      <td>0.0</td>\n",
              "      <td>0.0</td>\n",
              "      <td>1.0</td>\n",
              "      <td>0.0</td>\n",
              "    </tr>\n",
              "    <tr>\n",
              "      <th>682</th>\n",
              "      <td>1.0</td>\n",
              "      <td>0.0</td>\n",
              "      <td>0.0</td>\n",
              "      <td>0.0</td>\n",
              "      <td>0.0</td>\n",
              "      <td>0.0</td>\n",
              "      <td>0.0</td>\n",
              "      <td>1.0</td>\n",
              "      <td>0.0</td>\n",
              "      <td>0.0</td>\n",
              "    </tr>\n",
              "  </tbody>\n",
              "</table>\n",
              "</div>"
            ],
            "text/plain": [
              "     18 to 29 years  30 to 49 years  ...  Pre-obesity  Underweight\n",
              "353             1.0             0.0  ...          1.0          0.0\n",
              "711             0.0             1.0  ...          1.0          0.0\n",
              "373             1.0             0.0  ...          0.0          0.0\n",
              "46              1.0             0.0  ...          1.0          0.0\n",
              "682             1.0             0.0  ...          0.0          0.0\n",
              "\n",
              "[5 rows x 10 columns]"
            ]
          },
          "metadata": {},
          "execution_count": 35
        }
      ]
    },
    {
      "cell_type": "markdown",
      "metadata": {
        "id": "DxWjZSma0WKm"
      },
      "source": [
        "Dataframe for the test set"
      ]
    },
    {
      "cell_type": "code",
      "metadata": {
        "id": "X1OwgTS70XqS"
      },
      "source": [
        "cat_test = pd.DataFrame(cat_test_transformed, index=X_test.index, columns=cols)"
      ],
      "execution_count": 36,
      "outputs": []
    },
    {
      "cell_type": "code",
      "metadata": {
        "colab": {
          "base_uri": "https://localhost:8080/",
          "height": 223
        },
        "id": "Jvo6WzRK0e3Z",
        "outputId": "8d681ccc-b2a5-4b2f-c8c0-483c365361db"
      },
      "source": [
        "cat_test.head()"
      ],
      "execution_count": 37,
      "outputs": [
        {
          "output_type": "execute_result",
          "data": {
            "text/html": [
              "<div>\n",
              "<style scoped>\n",
              "    .dataframe tbody tr th:only-of-type {\n",
              "        vertical-align: middle;\n",
              "    }\n",
              "\n",
              "    .dataframe tbody tr th {\n",
              "        vertical-align: top;\n",
              "    }\n",
              "\n",
              "    .dataframe thead th {\n",
              "        text-align: right;\n",
              "    }\n",
              "</style>\n",
              "<table border=\"1\" class=\"dataframe\">\n",
              "  <thead>\n",
              "    <tr style=\"text-align: right;\">\n",
              "      <th></th>\n",
              "      <th>18 to 29 years</th>\n",
              "      <th>30 to 49 years</th>\n",
              "      <th>50 to 64 years</th>\n",
              "      <th>65 or more</th>\n",
              "      <th>Normal weight</th>\n",
              "      <th>Obesity class I</th>\n",
              "      <th>Obesity class II</th>\n",
              "      <th>Obesity class III</th>\n",
              "      <th>Pre-obesity</th>\n",
              "      <th>Underweight</th>\n",
              "    </tr>\n",
              "  </thead>\n",
              "  <tbody>\n",
              "    <tr>\n",
              "      <th>44</th>\n",
              "      <td>0.0</td>\n",
              "      <td>1.0</td>\n",
              "      <td>0.0</td>\n",
              "      <td>0.0</td>\n",
              "      <td>0.0</td>\n",
              "      <td>0.0</td>\n",
              "      <td>0.0</td>\n",
              "      <td>0.0</td>\n",
              "      <td>1.0</td>\n",
              "      <td>0.0</td>\n",
              "    </tr>\n",
              "    <tr>\n",
              "      <th>672</th>\n",
              "      <td>0.0</td>\n",
              "      <td>1.0</td>\n",
              "      <td>0.0</td>\n",
              "      <td>0.0</td>\n",
              "      <td>0.0</td>\n",
              "      <td>0.0</td>\n",
              "      <td>1.0</td>\n",
              "      <td>0.0</td>\n",
              "      <td>0.0</td>\n",
              "      <td>0.0</td>\n",
              "    </tr>\n",
              "    <tr>\n",
              "      <th>700</th>\n",
              "      <td>1.0</td>\n",
              "      <td>0.0</td>\n",
              "      <td>0.0</td>\n",
              "      <td>0.0</td>\n",
              "      <td>0.0</td>\n",
              "      <td>0.0</td>\n",
              "      <td>1.0</td>\n",
              "      <td>0.0</td>\n",
              "      <td>0.0</td>\n",
              "      <td>0.0</td>\n",
              "    </tr>\n",
              "    <tr>\n",
              "      <th>630</th>\n",
              "      <td>0.0</td>\n",
              "      <td>1.0</td>\n",
              "      <td>0.0</td>\n",
              "      <td>0.0</td>\n",
              "      <td>0.0</td>\n",
              "      <td>0.0</td>\n",
              "      <td>0.0</td>\n",
              "      <td>0.0</td>\n",
              "      <td>1.0</td>\n",
              "      <td>0.0</td>\n",
              "    </tr>\n",
              "    <tr>\n",
              "      <th>81</th>\n",
              "      <td>1.0</td>\n",
              "      <td>0.0</td>\n",
              "      <td>0.0</td>\n",
              "      <td>0.0</td>\n",
              "      <td>0.0</td>\n",
              "      <td>1.0</td>\n",
              "      <td>0.0</td>\n",
              "      <td>0.0</td>\n",
              "      <td>0.0</td>\n",
              "      <td>0.0</td>\n",
              "    </tr>\n",
              "  </tbody>\n",
              "</table>\n",
              "</div>"
            ],
            "text/plain": [
              "     18 to 29 years  30 to 49 years  ...  Pre-obesity  Underweight\n",
              "44              0.0             1.0  ...          1.0          0.0\n",
              "672             0.0             1.0  ...          0.0          0.0\n",
              "700             1.0             0.0  ...          0.0          0.0\n",
              "630             0.0             1.0  ...          1.0          0.0\n",
              "81              1.0             0.0  ...          0.0          0.0\n",
              "\n",
              "[5 rows x 10 columns]"
            ]
          },
          "metadata": {},
          "execution_count": 37
        }
      ]
    },
    {
      "cell_type": "markdown",
      "metadata": {
        "id": "QklXEOWI0jx_"
      },
      "source": [
        "Now we can concatenate the transformed features into the X_train and X_test sets"
      ]
    },
    {
      "cell_type": "code",
      "metadata": {
        "id": "vvazfBW60wcf"
      },
      "source": [
        "X_train_prep = pd.concat([X_train, cat_train], axis=1)"
      ],
      "execution_count": 38,
      "outputs": []
    },
    {
      "cell_type": "code",
      "metadata": {
        "colab": {
          "base_uri": "https://localhost:8080/",
          "height": 347
        },
        "id": "LMWp8iGs05pJ",
        "outputId": "6d23b61e-04b1-4f5d-9b8c-18b955657661"
      },
      "source": [
        "X_train_prep.head()"
      ],
      "execution_count": 39,
      "outputs": [
        {
          "output_type": "execute_result",
          "data": {
            "text/html": [
              "<div>\n",
              "<style scoped>\n",
              "    .dataframe tbody tr th:only-of-type {\n",
              "        vertical-align: middle;\n",
              "    }\n",
              "\n",
              "    .dataframe tbody tr th {\n",
              "        vertical-align: top;\n",
              "    }\n",
              "\n",
              "    .dataframe thead th {\n",
              "        text-align: right;\n",
              "    }\n",
              "</style>\n",
              "<table border=\"1\" class=\"dataframe\">\n",
              "  <thead>\n",
              "    <tr style=\"text-align: right;\">\n",
              "      <th></th>\n",
              "      <th>Pregnancies</th>\n",
              "      <th>Glucose</th>\n",
              "      <th>BloodPressure</th>\n",
              "      <th>SkinThickness</th>\n",
              "      <th>Insulin</th>\n",
              "      <th>DiabetesPedigreeFunction</th>\n",
              "      <th>AgeClass</th>\n",
              "      <th>BMIClass</th>\n",
              "      <th>18 to 29 years</th>\n",
              "      <th>30 to 49 years</th>\n",
              "      <th>50 to 64 years</th>\n",
              "      <th>65 or more</th>\n",
              "      <th>Normal weight</th>\n",
              "      <th>Obesity class I</th>\n",
              "      <th>Obesity class II</th>\n",
              "      <th>Obesity class III</th>\n",
              "      <th>Pre-obesity</th>\n",
              "      <th>Underweight</th>\n",
              "    </tr>\n",
              "  </thead>\n",
              "  <tbody>\n",
              "    <tr>\n",
              "      <th>353</th>\n",
              "      <td>1</td>\n",
              "      <td>90.0</td>\n",
              "      <td>62.0</td>\n",
              "      <td>12.0</td>\n",
              "      <td>43.0</td>\n",
              "      <td>0.580</td>\n",
              "      <td>18 to 29 years</td>\n",
              "      <td>Pre-obesity</td>\n",
              "      <td>1.0</td>\n",
              "      <td>0.0</td>\n",
              "      <td>0.0</td>\n",
              "      <td>0.0</td>\n",
              "      <td>0.0</td>\n",
              "      <td>0.0</td>\n",
              "      <td>0.0</td>\n",
              "      <td>0.0</td>\n",
              "      <td>1.0</td>\n",
              "      <td>0.0</td>\n",
              "    </tr>\n",
              "    <tr>\n",
              "      <th>711</th>\n",
              "      <td>5</td>\n",
              "      <td>126.0</td>\n",
              "      <td>78.0</td>\n",
              "      <td>27.0</td>\n",
              "      <td>22.0</td>\n",
              "      <td>0.439</td>\n",
              "      <td>30 to 49 years</td>\n",
              "      <td>Pre-obesity</td>\n",
              "      <td>0.0</td>\n",
              "      <td>1.0</td>\n",
              "      <td>0.0</td>\n",
              "      <td>0.0</td>\n",
              "      <td>0.0</td>\n",
              "      <td>0.0</td>\n",
              "      <td>0.0</td>\n",
              "      <td>0.0</td>\n",
              "      <td>1.0</td>\n",
              "      <td>0.0</td>\n",
              "    </tr>\n",
              "    <tr>\n",
              "      <th>373</th>\n",
              "      <td>2</td>\n",
              "      <td>105.0</td>\n",
              "      <td>58.0</td>\n",
              "      <td>40.0</td>\n",
              "      <td>94.0</td>\n",
              "      <td>0.225</td>\n",
              "      <td>18 to 29 years</td>\n",
              "      <td>Obesity class I</td>\n",
              "      <td>1.0</td>\n",
              "      <td>0.0</td>\n",
              "      <td>0.0</td>\n",
              "      <td>0.0</td>\n",
              "      <td>0.0</td>\n",
              "      <td>1.0</td>\n",
              "      <td>0.0</td>\n",
              "      <td>0.0</td>\n",
              "      <td>0.0</td>\n",
              "      <td>0.0</td>\n",
              "    </tr>\n",
              "    <tr>\n",
              "      <th>46</th>\n",
              "      <td>1</td>\n",
              "      <td>146.0</td>\n",
              "      <td>56.0</td>\n",
              "      <td>NaN</td>\n",
              "      <td>NaN</td>\n",
              "      <td>0.564</td>\n",
              "      <td>18 to 29 years</td>\n",
              "      <td>Pre-obesity</td>\n",
              "      <td>1.0</td>\n",
              "      <td>0.0</td>\n",
              "      <td>0.0</td>\n",
              "      <td>0.0</td>\n",
              "      <td>0.0</td>\n",
              "      <td>0.0</td>\n",
              "      <td>0.0</td>\n",
              "      <td>0.0</td>\n",
              "      <td>1.0</td>\n",
              "      <td>0.0</td>\n",
              "    </tr>\n",
              "    <tr>\n",
              "      <th>682</th>\n",
              "      <td>0</td>\n",
              "      <td>95.0</td>\n",
              "      <td>64.0</td>\n",
              "      <td>39.0</td>\n",
              "      <td>105.0</td>\n",
              "      <td>0.366</td>\n",
              "      <td>18 to 29 years</td>\n",
              "      <td>Obesity class III</td>\n",
              "      <td>1.0</td>\n",
              "      <td>0.0</td>\n",
              "      <td>0.0</td>\n",
              "      <td>0.0</td>\n",
              "      <td>0.0</td>\n",
              "      <td>0.0</td>\n",
              "      <td>0.0</td>\n",
              "      <td>1.0</td>\n",
              "      <td>0.0</td>\n",
              "      <td>0.0</td>\n",
              "    </tr>\n",
              "  </tbody>\n",
              "</table>\n",
              "</div>"
            ],
            "text/plain": [
              "     Pregnancies  Glucose  ...  Pre-obesity  Underweight\n",
              "353            1     90.0  ...          1.0          0.0\n",
              "711            5    126.0  ...          1.0          0.0\n",
              "373            2    105.0  ...          0.0          0.0\n",
              "46             1    146.0  ...          1.0          0.0\n",
              "682            0     95.0  ...          0.0          0.0\n",
              "\n",
              "[5 rows x 18 columns]"
            ]
          },
          "metadata": {},
          "execution_count": 39
        }
      ]
    },
    {
      "cell_type": "code",
      "metadata": {
        "id": "w7S5RM8W07gg"
      },
      "source": [
        "X_test_prep = pd.concat([X_test, cat_test], axis=1)"
      ],
      "execution_count": 40,
      "outputs": []
    },
    {
      "cell_type": "code",
      "metadata": {
        "colab": {
          "base_uri": "https://localhost:8080/",
          "height": 347
        },
        "id": "vRHBxkkC0jim",
        "outputId": "30620a11-6e29-415d-c0d4-f6d4be769375"
      },
      "source": [
        "X_test_prep.head()"
      ],
      "execution_count": 41,
      "outputs": [
        {
          "output_type": "execute_result",
          "data": {
            "text/html": [
              "<div>\n",
              "<style scoped>\n",
              "    .dataframe tbody tr th:only-of-type {\n",
              "        vertical-align: middle;\n",
              "    }\n",
              "\n",
              "    .dataframe tbody tr th {\n",
              "        vertical-align: top;\n",
              "    }\n",
              "\n",
              "    .dataframe thead th {\n",
              "        text-align: right;\n",
              "    }\n",
              "</style>\n",
              "<table border=\"1\" class=\"dataframe\">\n",
              "  <thead>\n",
              "    <tr style=\"text-align: right;\">\n",
              "      <th></th>\n",
              "      <th>Pregnancies</th>\n",
              "      <th>Glucose</th>\n",
              "      <th>BloodPressure</th>\n",
              "      <th>SkinThickness</th>\n",
              "      <th>Insulin</th>\n",
              "      <th>DiabetesPedigreeFunction</th>\n",
              "      <th>AgeClass</th>\n",
              "      <th>BMIClass</th>\n",
              "      <th>18 to 29 years</th>\n",
              "      <th>30 to 49 years</th>\n",
              "      <th>50 to 64 years</th>\n",
              "      <th>65 or more</th>\n",
              "      <th>Normal weight</th>\n",
              "      <th>Obesity class I</th>\n",
              "      <th>Obesity class II</th>\n",
              "      <th>Obesity class III</th>\n",
              "      <th>Pre-obesity</th>\n",
              "      <th>Underweight</th>\n",
              "    </tr>\n",
              "  </thead>\n",
              "  <tbody>\n",
              "    <tr>\n",
              "      <th>44</th>\n",
              "      <td>7</td>\n",
              "      <td>159.0</td>\n",
              "      <td>64.0</td>\n",
              "      <td>NaN</td>\n",
              "      <td>NaN</td>\n",
              "      <td>0.294</td>\n",
              "      <td>30 to 49 years</td>\n",
              "      <td>Pre-obesity</td>\n",
              "      <td>0.0</td>\n",
              "      <td>1.0</td>\n",
              "      <td>0.0</td>\n",
              "      <td>0.0</td>\n",
              "      <td>0.0</td>\n",
              "      <td>0.0</td>\n",
              "      <td>0.0</td>\n",
              "      <td>0.0</td>\n",
              "      <td>1.0</td>\n",
              "      <td>0.0</td>\n",
              "    </tr>\n",
              "    <tr>\n",
              "      <th>672</th>\n",
              "      <td>10</td>\n",
              "      <td>68.0</td>\n",
              "      <td>106.0</td>\n",
              "      <td>23.0</td>\n",
              "      <td>49.0</td>\n",
              "      <td>0.285</td>\n",
              "      <td>30 to 49 years</td>\n",
              "      <td>Obesity class II</td>\n",
              "      <td>0.0</td>\n",
              "      <td>1.0</td>\n",
              "      <td>0.0</td>\n",
              "      <td>0.0</td>\n",
              "      <td>0.0</td>\n",
              "      <td>0.0</td>\n",
              "      <td>1.0</td>\n",
              "      <td>0.0</td>\n",
              "      <td>0.0</td>\n",
              "      <td>0.0</td>\n",
              "    </tr>\n",
              "    <tr>\n",
              "      <th>700</th>\n",
              "      <td>2</td>\n",
              "      <td>122.0</td>\n",
              "      <td>76.0</td>\n",
              "      <td>27.0</td>\n",
              "      <td>200.0</td>\n",
              "      <td>0.483</td>\n",
              "      <td>18 to 29 years</td>\n",
              "      <td>Obesity class II</td>\n",
              "      <td>1.0</td>\n",
              "      <td>0.0</td>\n",
              "      <td>0.0</td>\n",
              "      <td>0.0</td>\n",
              "      <td>0.0</td>\n",
              "      <td>0.0</td>\n",
              "      <td>1.0</td>\n",
              "      <td>0.0</td>\n",
              "      <td>0.0</td>\n",
              "      <td>0.0</td>\n",
              "    </tr>\n",
              "    <tr>\n",
              "      <th>630</th>\n",
              "      <td>7</td>\n",
              "      <td>114.0</td>\n",
              "      <td>64.0</td>\n",
              "      <td>NaN</td>\n",
              "      <td>NaN</td>\n",
              "      <td>0.732</td>\n",
              "      <td>30 to 49 years</td>\n",
              "      <td>Pre-obesity</td>\n",
              "      <td>0.0</td>\n",
              "      <td>1.0</td>\n",
              "      <td>0.0</td>\n",
              "      <td>0.0</td>\n",
              "      <td>0.0</td>\n",
              "      <td>0.0</td>\n",
              "      <td>0.0</td>\n",
              "      <td>0.0</td>\n",
              "      <td>1.0</td>\n",
              "      <td>0.0</td>\n",
              "    </tr>\n",
              "    <tr>\n",
              "      <th>81</th>\n",
              "      <td>2</td>\n",
              "      <td>74.0</td>\n",
              "      <td>NaN</td>\n",
              "      <td>NaN</td>\n",
              "      <td>NaN</td>\n",
              "      <td>0.102</td>\n",
              "      <td>18 to 29 years</td>\n",
              "      <td>Obesity class I</td>\n",
              "      <td>1.0</td>\n",
              "      <td>0.0</td>\n",
              "      <td>0.0</td>\n",
              "      <td>0.0</td>\n",
              "      <td>0.0</td>\n",
              "      <td>1.0</td>\n",
              "      <td>0.0</td>\n",
              "      <td>0.0</td>\n",
              "      <td>0.0</td>\n",
              "      <td>0.0</td>\n",
              "    </tr>\n",
              "  </tbody>\n",
              "</table>\n",
              "</div>"
            ],
            "text/plain": [
              "     Pregnancies  Glucose  ...  Pre-obesity  Underweight\n",
              "44             7    159.0  ...          1.0          0.0\n",
              "672           10     68.0  ...          0.0          0.0\n",
              "700            2    122.0  ...          0.0          0.0\n",
              "630            7    114.0  ...          1.0          0.0\n",
              "81             2     74.0  ...          0.0          0.0\n",
              "\n",
              "[5 rows x 18 columns]"
            ]
          },
          "metadata": {},
          "execution_count": 41
        }
      ]
    },
    {
      "cell_type": "markdown",
      "metadata": {
        "id": "b89nRwLM1Eu5"
      },
      "source": [
        "# Speeding it up with Pipelines and the ColumnTransformer\n",
        "The process above is quite \"messy\" and confusing. Luckly, sklearn provides the Pipeline and ColumnTransformer (among other) classes that can greaty help you in training and evaluating machine learning models.\n",
        "\n",
        "The **Pipeline** allows you to define a series of steps that need to be performed in the specified order. Here we will create the `cat_transformer` to:\n",
        "1. Impute missing values with the most frequent class in categorical variables;\n",
        "2. Perform One-Hot-Encoding on your data.\n",
        "\n",
        "The `Pipeline` takes a list (`[]`) of steps, and each step is organized in a tuple (`()`). The tuple takes two arguments: the name of the method and the processor used. The final shape should be something like this: P`ipeline([(\"step1\", processor1),...,(\"stepN\", processorN])`\n",
        "\n",
        "---\n",
        "\n",
        "Next, we will use the **ColumnTransformer** to specify which columns will be transformed. This method is similar to the **Pipeline**, but the difference is that it takes a third element inside the tuple with the names of the columns to be transformed. `ColumnTransformer([\"step1\", processor1, [\"columnA\", \"columnB\"], ..., [\"stepN\", processorN, [\"columnC\", \"columnD\"]])`"
      ]
    },
    {
      "cell_type": "code",
      "metadata": {
        "id": "bJJaxPK11HQe"
      },
      "source": [
        "# Importing the Pipeline class\n",
        "from sklearn.pipeline import Pipeline"
      ],
      "execution_count": 42,
      "outputs": []
    },
    {
      "cell_type": "code",
      "metadata": {
        "id": "tjnOVDmz1O_z"
      },
      "source": [
        "# Defining the cat_transformer, specifying the steps to be taken\n",
        "# 1. First we will apply the imp_frequent defined previously (using the SimpleImputer);\n",
        "# 2. And then we will apply the ohe define previously (using the OneHotEncoder)\n",
        "cat_transformer = Pipeline(\n",
        "    [(\"imputer\", imp_frequent),\n",
        "     (\"ohe\", ohe)]\n",
        ")"
      ],
      "execution_count": 43,
      "outputs": []
    },
    {
      "cell_type": "markdown",
      "metadata": {
        "id": "EQLMqmFp5JbM"
      },
      "source": [
        "Now we define the ColumnTransformer method and specif which columns should be transformed.\n",
        "\n",
        "**Note**: I will add an extra pipeline that will scale numeric variables for the sake of completion. I will build a separate notebook with detailed information for numeric variables as well."
      ]
    },
    {
      "cell_type": "code",
      "metadata": {
        "id": "yfa01Sfg6-1p"
      },
      "source": [
        "from sklearn.preprocessing import StandardScaler\n",
        "numeric_transformer = Pipeline(\n",
        "    [(\"imputer_median\", SimpleImputer(strategy=\"median\")),\n",
        "     (\"std_scaler\", StandardScaler())]\n",
        "     )\n",
        "numeric = [cname for cname in X.columns if X[cname].dtype != \"object\"]"
      ],
      "execution_count": 44,
      "outputs": []
    },
    {
      "cell_type": "code",
      "metadata": {
        "id": "lU4mrX-r2D4h"
      },
      "source": [
        "from sklearn.compose import ColumnTransformer\n",
        "transformer = ColumnTransformer(\n",
        "    [(\"categoric_data\", cat_transformer, categorical),\n",
        "     (\"numeric_data\", numeric_transformer, numeric)])"
      ],
      "execution_count": 45,
      "outputs": []
    },
    {
      "cell_type": "markdown",
      "metadata": {
        "id": "0yU2GDxc9Kn0"
      },
      "source": [
        "Visualizing the pipeline"
      ]
    },
    {
      "cell_type": "code",
      "metadata": {
        "colab": {
          "base_uri": "https://localhost:8080/",
          "height": 134
        },
        "id": "nnMBWT9C9MWk",
        "outputId": "66ba9ed3-5511-43f8-e424-b321b971d80a"
      },
      "source": [
        "from sklearn import set_config\n",
        "set_config(display=\"diagram\")\n",
        "\n",
        "display(transformer)"
      ],
      "execution_count": 46,
      "outputs": [
        {
          "output_type": "display_data",
          "data": {
            "text/html": [
              "<style>div.sk-top-container {color: black;background-color: white;}div.sk-toggleable {background-color: white;}label.sk-toggleable__label {cursor: pointer;display: block;width: 100%;margin-bottom: 0;padding: 0.2em 0.3em;box-sizing: border-box;text-align: center;}div.sk-toggleable__content {max-height: 0;max-width: 0;overflow: hidden;text-align: left;background-color: #f0f8ff;}div.sk-toggleable__content pre {margin: 0.2em;color: black;border-radius: 0.25em;background-color: #f0f8ff;}input.sk-toggleable__control:checked~div.sk-toggleable__content {max-height: 200px;max-width: 100%;overflow: auto;}div.sk-estimator input.sk-toggleable__control:checked~label.sk-toggleable__label {background-color: #d4ebff;}div.sk-label input.sk-toggleable__control:checked~label.sk-toggleable__label {background-color: #d4ebff;}input.sk-hidden--visually {border: 0;clip: rect(1px 1px 1px 1px);clip: rect(1px, 1px, 1px, 1px);height: 1px;margin: -1px;overflow: hidden;padding: 0;position: absolute;width: 1px;}div.sk-estimator {font-family: monospace;background-color: #f0f8ff;margin: 0.25em 0.25em;border: 1px dotted black;border-radius: 0.25em;box-sizing: border-box;}div.sk-estimator:hover {background-color: #d4ebff;}div.sk-parallel-item::after {content: \"\";width: 100%;border-bottom: 1px solid gray;flex-grow: 1;}div.sk-label:hover label.sk-toggleable__label {background-color: #d4ebff;}div.sk-serial::before {content: \"\";position: absolute;border-left: 1px solid gray;box-sizing: border-box;top: 2em;bottom: 0;left: 50%;}div.sk-serial {display: flex;flex-direction: column;align-items: center;background-color: white;}div.sk-item {z-index: 1;}div.sk-parallel {display: flex;align-items: stretch;justify-content: center;background-color: white;}div.sk-parallel-item {display: flex;flex-direction: column;position: relative;background-color: white;}div.sk-parallel-item:first-child::after {align-self: flex-end;width: 50%;}div.sk-parallel-item:last-child::after {align-self: flex-start;width: 50%;}div.sk-parallel-item:only-child::after {width: 0;}div.sk-dashed-wrapped {border: 1px dashed gray;margin: 0.2em;box-sizing: border-box;padding-bottom: 0.1em;background-color: white;position: relative;}div.sk-label label {font-family: monospace;font-weight: bold;background-color: white;display: inline-block;line-height: 1.2em;}div.sk-label-container {position: relative;z-index: 2;text-align: center;}div.sk-container {display: inline-block;position: relative;}</style><div class=\"sk-top-container\"><div class=\"sk-container\"><div class=\"sk-item sk-dashed-wrapped\"><div class=\"sk-label-container\"><div class=\"sk-label sk-toggleable\"><input class=\"sk-toggleable__control sk-hidden--visually\" id=\"07892e4c-f2f8-4883-a2ea-75de262bd0fa\" type=\"checkbox\" ><label class=\"sk-toggleable__label\" for=\"07892e4c-f2f8-4883-a2ea-75de262bd0fa\">ColumnTransformer</label><div class=\"sk-toggleable__content\"><pre>ColumnTransformer(transformers=[('categoric_data',\n",
              "                                 Pipeline(steps=[('imputer',\n",
              "                                                  SimpleImputer(strategy='most_frequent')),\n",
              "                                                 ('ohe',\n",
              "                                                  OneHotEncoder(handle_unknown='ignore',\n",
              "                                                                sparse=False))]),\n",
              "                                 ['AgeClass', 'BMIClass']),\n",
              "                                ('numeric_data',\n",
              "                                 Pipeline(steps=[('imputer_median',\n",
              "                                                  SimpleImputer(strategy='median')),\n",
              "                                                 ('std_scaler',\n",
              "                                                  StandardScaler())]),\n",
              "                                 ['Pregnancies', 'Glucose', 'BloodPressure',\n",
              "                                  'SkinThickness', 'Insulin',\n",
              "                                  'DiabetesPedigreeFunction'])])</pre></div></div></div><div class=\"sk-parallel\"><div class=\"sk-parallel-item\"><div class=\"sk-item\"><div class=\"sk-label-container\"><div class=\"sk-label sk-toggleable\"><input class=\"sk-toggleable__control sk-hidden--visually\" id=\"e3c18a02-39d7-4ee1-90cb-7a2e37a5d56f\" type=\"checkbox\" ><label class=\"sk-toggleable__label\" for=\"e3c18a02-39d7-4ee1-90cb-7a2e37a5d56f\">categoric_data</label><div class=\"sk-toggleable__content\"><pre>['AgeClass', 'BMIClass']</pre></div></div></div><div class=\"sk-serial\"><div class=\"sk-item\"><div class=\"sk-serial\"><div class=\"sk-item\"><div class=\"sk-estimator sk-toggleable\"><input class=\"sk-toggleable__control sk-hidden--visually\" id=\"ef1bb9a8-4661-4c4c-abc9-820ab56cb655\" type=\"checkbox\" ><label class=\"sk-toggleable__label\" for=\"ef1bb9a8-4661-4c4c-abc9-820ab56cb655\">SimpleImputer</label><div class=\"sk-toggleable__content\"><pre>SimpleImputer(strategy='most_frequent')</pre></div></div></div><div class=\"sk-item\"><div class=\"sk-estimator sk-toggleable\"><input class=\"sk-toggleable__control sk-hidden--visually\" id=\"351588fa-b062-48a6-91d7-8f6bd364b946\" type=\"checkbox\" ><label class=\"sk-toggleable__label\" for=\"351588fa-b062-48a6-91d7-8f6bd364b946\">OneHotEncoder</label><div class=\"sk-toggleable__content\"><pre>OneHotEncoder(handle_unknown='ignore', sparse=False)</pre></div></div></div></div></div></div></div></div><div class=\"sk-parallel-item\"><div class=\"sk-item\"><div class=\"sk-label-container\"><div class=\"sk-label sk-toggleable\"><input class=\"sk-toggleable__control sk-hidden--visually\" id=\"c2bba0f2-02a8-4026-a28b-32de6e7490f9\" type=\"checkbox\" ><label class=\"sk-toggleable__label\" for=\"c2bba0f2-02a8-4026-a28b-32de6e7490f9\">numeric_data</label><div class=\"sk-toggleable__content\"><pre>['Pregnancies', 'Glucose', 'BloodPressure', 'SkinThickness', 'Insulin', 'DiabetesPedigreeFunction']</pre></div></div></div><div class=\"sk-serial\"><div class=\"sk-item\"><div class=\"sk-serial\"><div class=\"sk-item\"><div class=\"sk-estimator sk-toggleable\"><input class=\"sk-toggleable__control sk-hidden--visually\" id=\"67368946-27b4-4d35-a981-b20eb9faab04\" type=\"checkbox\" ><label class=\"sk-toggleable__label\" for=\"67368946-27b4-4d35-a981-b20eb9faab04\">SimpleImputer</label><div class=\"sk-toggleable__content\"><pre>SimpleImputer(strategy='median')</pre></div></div></div><div class=\"sk-item\"><div class=\"sk-estimator sk-toggleable\"><input class=\"sk-toggleable__control sk-hidden--visually\" id=\"0595de56-62fc-43d7-8130-64d025cf8d8a\" type=\"checkbox\" ><label class=\"sk-toggleable__label\" for=\"0595de56-62fc-43d7-8130-64d025cf8d8a\">StandardScaler</label><div class=\"sk-toggleable__content\"><pre>StandardScaler()</pre></div></div></div></div></div></div></div></div></div></div></div></div>"
            ],
            "text/plain": [
              "ColumnTransformer(transformers=[('categoric_data',\n",
              "                                 Pipeline(steps=[('imputer',\n",
              "                                                  SimpleImputer(strategy='most_frequent')),\n",
              "                                                 ('ohe',\n",
              "                                                  OneHotEncoder(handle_unknown='ignore',\n",
              "                                                                sparse=False))]),\n",
              "                                 ['AgeClass', 'BMIClass']),\n",
              "                                ('numeric_data',\n",
              "                                 Pipeline(steps=[('imputer_median',\n",
              "                                                  SimpleImputer(strategy='median')),\n",
              "                                                 ('std_scaler',\n",
              "                                                  StandardScaler())]),\n",
              "                                 ['Pregnancies', 'Glucose', 'BloodPressure',\n",
              "                                  'SkinThickness', 'Insulin',\n",
              "                                  'DiabetesPedigreeFunction'])])"
            ]
          },
          "metadata": {}
        }
      ]
    },
    {
      "cell_type": "markdown",
      "metadata": {
        "id": "tCc5CulX5r_i"
      },
      "source": [
        "Now it is easy to obtain the transformed train and test versions of your dataset"
      ]
    },
    {
      "cell_type": "code",
      "metadata": {
        "id": "LGF02bsW5wqk"
      },
      "source": [
        "seed = np.random.seed(42)\n",
        "\n",
        "X_train, X_test, y_train, y_test = train_test_split(X, y, stratify=y, \n",
        "                                                    test_size=0.2)"
      ],
      "execution_count": 47,
      "outputs": []
    },
    {
      "cell_type": "code",
      "metadata": {
        "id": "Cbb5cGAS51hd"
      },
      "source": [
        "# We will use fit_transform in the train set\n",
        "X_train_prep = transformer.fit_transform(X_train)\n",
        "# And we will only use the transform on the test set\n",
        "X_test_prep = transformer.transform(X_test)"
      ],
      "execution_count": 48,
      "outputs": []
    },
    {
      "cell_type": "code",
      "metadata": {
        "colab": {
          "base_uri": "https://localhost:8080/"
        },
        "id": "ZbNVJU176SPi",
        "outputId": "d8e6d503-02f1-49aa-adf1-9e33e549ef89"
      },
      "source": [
        "X_train_prep"
      ],
      "execution_count": 49,
      "outputs": [
        {
          "output_type": "execute_result",
          "data": {
            "text/plain": [
              "array([[ 1.        ,  0.        ,  0.        , ..., -1.91818693,\n",
              "        -1.20336073,  0.31079384],\n",
              "       [ 0.        ,  1.        ,  0.        , ..., -0.22987447,\n",
              "        -1.47019479, -0.11643851],\n",
              "       [ 1.        ,  0.        ,  0.        , ...,  1.23332967,\n",
              "        -0.55533518, -0.76486207],\n",
              "       ...,\n",
              "       [ 0.        ,  1.        ,  0.        , ...,  1.23332967,\n",
              "        -0.16143729, -0.78607218],\n",
              "       [ 0.        ,  1.        ,  0.        , ..., -0.22987447,\n",
              "        -0.16143729, -1.01938346],\n",
              "       [ 0.        ,  1.        ,  0.        , ..., -0.1173203 ,\n",
              "         0.02915846, -0.57700104]])"
            ]
          },
          "metadata": {},
          "execution_count": 49
        }
      ]
    },
    {
      "cell_type": "markdown",
      "metadata": {
        "id": "sMDk9Gl55iKd"
      },
      "source": [
        "## Bonus: creating a pipeline that transforms and trains a model"
      ]
    },
    {
      "cell_type": "code",
      "metadata": {
        "id": "6Hazyqw7768Y"
      },
      "source": [
        "from sklearn.linear_model import LogisticRegression\n",
        "logit = LogisticRegression()"
      ],
      "execution_count": 50,
      "outputs": []
    },
    {
      "cell_type": "code",
      "metadata": {
        "id": "VNq60Cl-7_qo"
      },
      "source": [
        "final_pipe = Pipeline(\n",
        "    [(\"transformations\", transformer),\n",
        "     (\"logit\", logit)]\n",
        ")"
      ],
      "execution_count": 51,
      "outputs": []
    },
    {
      "cell_type": "code",
      "metadata": {
        "colab": {
          "base_uri": "https://localhost:8080/",
          "height": 196
        },
        "id": "ll5vwDqQ-l-W",
        "outputId": "9c0f4132-2101-410c-d336-8a2f866e42a6"
      },
      "source": [
        "display(final_pipe)"
      ],
      "execution_count": 52,
      "outputs": [
        {
          "output_type": "display_data",
          "data": {
            "text/html": [
              "<style>div.sk-top-container {color: black;background-color: white;}div.sk-toggleable {background-color: white;}label.sk-toggleable__label {cursor: pointer;display: block;width: 100%;margin-bottom: 0;padding: 0.2em 0.3em;box-sizing: border-box;text-align: center;}div.sk-toggleable__content {max-height: 0;max-width: 0;overflow: hidden;text-align: left;background-color: #f0f8ff;}div.sk-toggleable__content pre {margin: 0.2em;color: black;border-radius: 0.25em;background-color: #f0f8ff;}input.sk-toggleable__control:checked~div.sk-toggleable__content {max-height: 200px;max-width: 100%;overflow: auto;}div.sk-estimator input.sk-toggleable__control:checked~label.sk-toggleable__label {background-color: #d4ebff;}div.sk-label input.sk-toggleable__control:checked~label.sk-toggleable__label {background-color: #d4ebff;}input.sk-hidden--visually {border: 0;clip: rect(1px 1px 1px 1px);clip: rect(1px, 1px, 1px, 1px);height: 1px;margin: -1px;overflow: hidden;padding: 0;position: absolute;width: 1px;}div.sk-estimator {font-family: monospace;background-color: #f0f8ff;margin: 0.25em 0.25em;border: 1px dotted black;border-radius: 0.25em;box-sizing: border-box;}div.sk-estimator:hover {background-color: #d4ebff;}div.sk-parallel-item::after {content: \"\";width: 100%;border-bottom: 1px solid gray;flex-grow: 1;}div.sk-label:hover label.sk-toggleable__label {background-color: #d4ebff;}div.sk-serial::before {content: \"\";position: absolute;border-left: 1px solid gray;box-sizing: border-box;top: 2em;bottom: 0;left: 50%;}div.sk-serial {display: flex;flex-direction: column;align-items: center;background-color: white;}div.sk-item {z-index: 1;}div.sk-parallel {display: flex;align-items: stretch;justify-content: center;background-color: white;}div.sk-parallel-item {display: flex;flex-direction: column;position: relative;background-color: white;}div.sk-parallel-item:first-child::after {align-self: flex-end;width: 50%;}div.sk-parallel-item:last-child::after {align-self: flex-start;width: 50%;}div.sk-parallel-item:only-child::after {width: 0;}div.sk-dashed-wrapped {border: 1px dashed gray;margin: 0.2em;box-sizing: border-box;padding-bottom: 0.1em;background-color: white;position: relative;}div.sk-label label {font-family: monospace;font-weight: bold;background-color: white;display: inline-block;line-height: 1.2em;}div.sk-label-container {position: relative;z-index: 2;text-align: center;}div.sk-container {display: inline-block;position: relative;}</style><div class=\"sk-top-container\"><div class=\"sk-container\"><div class=\"sk-item sk-dashed-wrapped\"><div class=\"sk-label-container\"><div class=\"sk-label sk-toggleable\"><input class=\"sk-toggleable__control sk-hidden--visually\" id=\"a908a2f4-7e59-45b1-9a64-faece4bb5fef\" type=\"checkbox\" ><label class=\"sk-toggleable__label\" for=\"a908a2f4-7e59-45b1-9a64-faece4bb5fef\">Pipeline</label><div class=\"sk-toggleable__content\"><pre>Pipeline(steps=[('transformations',\n",
              "                 ColumnTransformer(transformers=[('categoric_data',\n",
              "                                                  Pipeline(steps=[('imputer',\n",
              "                                                                   SimpleImputer(strategy='most_frequent')),\n",
              "                                                                  ('ohe',\n",
              "                                                                   OneHotEncoder(handle_unknown='ignore',\n",
              "                                                                                 sparse=False))]),\n",
              "                                                  ['AgeClass', 'BMIClass']),\n",
              "                                                 ('numeric_data',\n",
              "                                                  Pipeline(steps=[('imputer_median',\n",
              "                                                                   SimpleImputer(strategy='median')),\n",
              "                                                                  ('std_scaler',\n",
              "                                                                   StandardScaler())]),\n",
              "                                                  ['Pregnancies', 'Glucose',\n",
              "                                                   'BloodPressure',\n",
              "                                                   'SkinThickness', 'Insulin',\n",
              "                                                   'DiabetesPedigreeFunction'])])),\n",
              "                ('logit', LogisticRegression())])</pre></div></div></div><div class=\"sk-serial\"><div class=\"sk-item sk-dashed-wrapped\"><div class=\"sk-label-container\"><div class=\"sk-label sk-toggleable\"><input class=\"sk-toggleable__control sk-hidden--visually\" id=\"c62a5d8e-b43e-4914-8051-a7d5bc5921ce\" type=\"checkbox\" ><label class=\"sk-toggleable__label\" for=\"c62a5d8e-b43e-4914-8051-a7d5bc5921ce\">transformations: ColumnTransformer</label><div class=\"sk-toggleable__content\"><pre>ColumnTransformer(transformers=[('categoric_data',\n",
              "                                 Pipeline(steps=[('imputer',\n",
              "                                                  SimpleImputer(strategy='most_frequent')),\n",
              "                                                 ('ohe',\n",
              "                                                  OneHotEncoder(handle_unknown='ignore',\n",
              "                                                                sparse=False))]),\n",
              "                                 ['AgeClass', 'BMIClass']),\n",
              "                                ('numeric_data',\n",
              "                                 Pipeline(steps=[('imputer_median',\n",
              "                                                  SimpleImputer(strategy='median')),\n",
              "                                                 ('std_scaler',\n",
              "                                                  StandardScaler())]),\n",
              "                                 ['Pregnancies', 'Glucose', 'BloodPressure',\n",
              "                                  'SkinThickness', 'Insulin',\n",
              "                                  'DiabetesPedigreeFunction'])])</pre></div></div></div><div class=\"sk-parallel\"><div class=\"sk-parallel-item\"><div class=\"sk-item\"><div class=\"sk-label-container\"><div class=\"sk-label sk-toggleable\"><input class=\"sk-toggleable__control sk-hidden--visually\" id=\"52a5f418-58f3-424d-8e4c-05813f8811cd\" type=\"checkbox\" ><label class=\"sk-toggleable__label\" for=\"52a5f418-58f3-424d-8e4c-05813f8811cd\">categoric_data</label><div class=\"sk-toggleable__content\"><pre>['AgeClass', 'BMIClass']</pre></div></div></div><div class=\"sk-serial\"><div class=\"sk-item\"><div class=\"sk-serial\"><div class=\"sk-item\"><div class=\"sk-estimator sk-toggleable\"><input class=\"sk-toggleable__control sk-hidden--visually\" id=\"f1bec46a-5d4d-4e53-9a53-8131bf0ba559\" type=\"checkbox\" ><label class=\"sk-toggleable__label\" for=\"f1bec46a-5d4d-4e53-9a53-8131bf0ba559\">SimpleImputer</label><div class=\"sk-toggleable__content\"><pre>SimpleImputer(strategy='most_frequent')</pre></div></div></div><div class=\"sk-item\"><div class=\"sk-estimator sk-toggleable\"><input class=\"sk-toggleable__control sk-hidden--visually\" id=\"eafb87b3-3e7f-4e6c-9a7f-f12d6ed3cf6f\" type=\"checkbox\" ><label class=\"sk-toggleable__label\" for=\"eafb87b3-3e7f-4e6c-9a7f-f12d6ed3cf6f\">OneHotEncoder</label><div class=\"sk-toggleable__content\"><pre>OneHotEncoder(handle_unknown='ignore', sparse=False)</pre></div></div></div></div></div></div></div></div><div class=\"sk-parallel-item\"><div class=\"sk-item\"><div class=\"sk-label-container\"><div class=\"sk-label sk-toggleable\"><input class=\"sk-toggleable__control sk-hidden--visually\" id=\"cc9cbe4a-1b5c-4b77-ae4f-0f8d84c7b6f6\" type=\"checkbox\" ><label class=\"sk-toggleable__label\" for=\"cc9cbe4a-1b5c-4b77-ae4f-0f8d84c7b6f6\">numeric_data</label><div class=\"sk-toggleable__content\"><pre>['Pregnancies', 'Glucose', 'BloodPressure', 'SkinThickness', 'Insulin', 'DiabetesPedigreeFunction']</pre></div></div></div><div class=\"sk-serial\"><div class=\"sk-item\"><div class=\"sk-serial\"><div class=\"sk-item\"><div class=\"sk-estimator sk-toggleable\"><input class=\"sk-toggleable__control sk-hidden--visually\" id=\"556f7403-0924-4037-8a4c-7ca1d4e33c0e\" type=\"checkbox\" ><label class=\"sk-toggleable__label\" for=\"556f7403-0924-4037-8a4c-7ca1d4e33c0e\">SimpleImputer</label><div class=\"sk-toggleable__content\"><pre>SimpleImputer(strategy='median')</pre></div></div></div><div class=\"sk-item\"><div class=\"sk-estimator sk-toggleable\"><input class=\"sk-toggleable__control sk-hidden--visually\" id=\"718f9ec1-eb2e-46b6-a221-7d576d80578a\" type=\"checkbox\" ><label class=\"sk-toggleable__label\" for=\"718f9ec1-eb2e-46b6-a221-7d576d80578a\">StandardScaler</label><div class=\"sk-toggleable__content\"><pre>StandardScaler()</pre></div></div></div></div></div></div></div></div></div></div><div class=\"sk-item\"><div class=\"sk-estimator sk-toggleable\"><input class=\"sk-toggleable__control sk-hidden--visually\" id=\"a859d7c4-b386-4a62-878e-49ba81e09a24\" type=\"checkbox\" ><label class=\"sk-toggleable__label\" for=\"a859d7c4-b386-4a62-878e-49ba81e09a24\">LogisticRegression</label><div class=\"sk-toggleable__content\"><pre>LogisticRegression()</pre></div></div></div></div></div></div></div>"
            ],
            "text/plain": [
              "Pipeline(steps=[('transformations',\n",
              "                 ColumnTransformer(transformers=[('categoric_data',\n",
              "                                                  Pipeline(steps=[('imputer',\n",
              "                                                                   SimpleImputer(strategy='most_frequent')),\n",
              "                                                                  ('ohe',\n",
              "                                                                   OneHotEncoder(handle_unknown='ignore',\n",
              "                                                                                 sparse=False))]),\n",
              "                                                  ['AgeClass', 'BMIClass']),\n",
              "                                                 ('numeric_data',\n",
              "                                                  Pipeline(steps=[('imputer_median',\n",
              "                                                                   SimpleImputer(strategy='median')),\n",
              "                                                                  ('std_scaler',\n",
              "                                                                   StandardScaler())]),\n",
              "                                                  ['Pregnancies', 'Glucose',\n",
              "                                                   'BloodPressure',\n",
              "                                                   'SkinThickness', 'Insulin',\n",
              "                                                   'DiabetesPedigreeFunction'])])),\n",
              "                ('logit', LogisticRegression())])"
            ]
          },
          "metadata": {}
        }
      ]
    },
    {
      "cell_type": "code",
      "metadata": {
        "id": "9pncidGv8JVp"
      },
      "source": [
        "# Fitting the whole pipeline and model to the training set\n",
        "final_pipe.fit(X_train, y_train)\n",
        "# Tryng to predict the y_test using X_test\n",
        "y_pred = final_pipe.predict(X_test)"
      ],
      "execution_count": 53,
      "outputs": []
    },
    {
      "cell_type": "code",
      "metadata": {
        "id": "D8e6Q55e8fBK"
      },
      "source": [
        "from sklearn.metrics import accuracy_score, recall_score, precision_score"
      ],
      "execution_count": 54,
      "outputs": []
    },
    {
      "cell_type": "code",
      "metadata": {
        "id": "fEoRpumV8hs5"
      },
      "source": [
        "acc = accuracy_score(y_test, y_pred)\n",
        "rec = recall_score(y_test, y_pred)\n",
        "prec = precision_score(y_test, y_pred)"
      ],
      "execution_count": 55,
      "outputs": []
    },
    {
      "cell_type": "code",
      "metadata": {
        "colab": {
          "base_uri": "https://localhost:8080/"
        },
        "id": "Ci4KJ9Gu8tor",
        "outputId": "8f830080-7c74-4b17-d8e7-f28f68f4c70b"
      },
      "source": [
        "print(f\"The results of our model are:\")\n",
        "print(f\"Accuracy: {acc}\")\n",
        "print(f\"Recall: {rec}\")\n",
        "print(f\"Precision: {prec}\")"
      ],
      "execution_count": 56,
      "outputs": [
        {
          "output_type": "stream",
          "name": "stdout",
          "text": [
            "The results of our model are:\n",
            "Accuracy: 0.7467532467532467\n",
            "Recall: 0.5555555555555556\n",
            "Precision: 0.6666666666666666\n"
          ]
        }
      ]
    }
  ]
}