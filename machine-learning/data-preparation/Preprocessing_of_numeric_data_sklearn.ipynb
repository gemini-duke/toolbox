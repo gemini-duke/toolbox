{
  "nbformat": 4,
  "nbformat_minor": 0,
  "metadata": {
    "colab": {
      "name": "Preprocessing of numeric data - sklearn.ipynb",
      "provenance": []
    },
    "kernelspec": {
      "name": "python3",
      "display_name": "Python 3"
    },
    "language_info": {
      "name": "python"
    }
  },
  "cells": [
    {
      "cell_type": "markdown",
      "metadata": {
        "id": "ICqic8qLVquk"
      },
      "source": [
        "# Preparation"
      ]
    },
    {
      "cell_type": "markdown",
      "metadata": {
        "id": "sCW97lc-Vc4O"
      },
      "source": [
        "## Import packages"
      ]
    },
    {
      "cell_type": "code",
      "metadata": {
        "id": "khYiqFSxu8kY"
      },
      "source": [
        "# pandas is a package most used for managing and organizing data\n",
        "import pandas as pd\n",
        "# numpy is a package used for numerical operations\n",
        "import numpy as np\n",
        "# matplotlib and seaborn are packages for ploting graphs\n",
        "import matplotlib.pyplot as plt\n",
        "import seaborn as sns\n",
        "import matplotlib as mpl\n",
        "# # scikit-learn is a package with many machine learning applications\n",
        "# import sklearn as sk \n",
        "# Ignoring warnings for reading purposes\n",
        "import warnings\n",
        "warnings.filterwarnings(\"ignore\")"
      ],
      "execution_count": 1,
      "outputs": []
    },
    {
      "cell_type": "markdown",
      "metadata": {
        "id": "6xDtpJ2oviPc"
      },
      "source": [
        "## Versions"
      ]
    },
    {
      "cell_type": "code",
      "metadata": {
        "colab": {
          "base_uri": "https://localhost:8080/"
        },
        "id": "ttmJXP4kveWK",
        "outputId": "a9e92250-a42c-4089-bbb0-cca1fa615425"
      },
      "source": [
        "# Python version in use\n",
        "!python --version"
      ],
      "execution_count": 2,
      "outputs": [
        {
          "output_type": "stream",
          "name": "stdout",
          "text": [
            "Python 3.7.11\n"
          ]
        }
      ]
    },
    {
      "cell_type": "code",
      "metadata": {
        "colab": {
          "base_uri": "https://localhost:8080/"
        },
        "id": "qeYFJkwuvnnj",
        "outputId": "54308e71-e64d-46a9-ed10-7c31f36c4c5a"
      },
      "source": [
        "print('The Pandas version utilized in this example is -',pd.__version__)\n",
        "print('The Matplotlib version utilized in this example is -',mpl.__version__)\n",
        "print('The Seaborn version utilized in this example is -',sns.__version__)\n",
        "print('The Numpy version utilized in this example is -',np.__version__)"
      ],
      "execution_count": 3,
      "outputs": [
        {
          "output_type": "stream",
          "name": "stdout",
          "text": [
            "The Pandas version utilized in this example is - 1.1.5\n",
            "The Matplotlib version utilized in this example is - 3.2.2\n",
            "The Seaborn version utilized in this example is - 0.11.1\n",
            "The Numpy version utilized in this example is - 1.19.5\n"
          ]
        }
      ]
    },
    {
      "cell_type": "markdown",
      "metadata": {
        "id": "nM-NtDF49upm"
      },
      "source": [
        "Installing a more recent version of sklearn"
      ]
    },
    {
      "cell_type": "code",
      "metadata": {
        "colab": {
          "base_uri": "https://localhost:8080/"
        },
        "id": "_pwjH5Ry9t-6",
        "outputId": "7901fcc6-d6b3-414a-9ad6-6a50033c931d"
      },
      "source": [
        "!pip install scikit-learn==0.24.1 > y\n",
        "import sklearn as sk\n",
        "print(sk.__version__)\n",
        "print('The Sklearn version utilized in this example is -',sk.__version__)"
      ],
      "execution_count": 4,
      "outputs": [
        {
          "output_type": "stream",
          "name": "stdout",
          "text": [
            "0.24.1\n",
            "The Sklearn version utilized in this example is - 0.24.1\n"
          ]
        }
      ]
    },
    {
      "cell_type": "markdown",
      "metadata": {
        "id": "6ni0h5XAwRq2"
      },
      "source": [
        "## Data"
      ]
    },
    {
      "cell_type": "markdown",
      "metadata": {
        "id": "dTvkRMbLv_RS"
      },
      "source": [
        "This dataset is originally from the National Institute of Diabetes and Digestive and Kidney Diseases. The objective of the dataset is to diagnostically predict whether or not a patient has diabetes, based on certain diagnostic measurements included in the dataset. Several constraints were placed on the selection of these instances from a larger database. In particular, all patients here are **females at least 21 years** old of Pima Indian heritage.\n",
        "\n",
        "This dataset can be found on [Kaggle](https://www.kaggle.com/uciml/pima-indians-diabetes-database)."
      ]
    },
    {
      "cell_type": "code",
      "metadata": {
        "id": "SBE3sIu8wVN4"
      },
      "source": [
        "# Getting the url of the dataset stored on the GEMINI github\n",
        "url = \"https://github.com/gemini-duke/toolbox/blob/main/machine-learning/data-preparation/diabetes_kaggle.zip?raw=true\""
      ],
      "execution_count": 5,
      "outputs": []
    },
    {
      "cell_type": "code",
      "metadata": {
        "id": "l87uCMuWxPDV"
      },
      "source": [
        "# reading data using the pandas package.\n",
        "# the dataset is compressed in a zip file, so we need to use compression=\"zip\"\n",
        "data = pd.read_csv(url, compression=\"zip\")"
      ],
      "execution_count": 6,
      "outputs": []
    },
    {
      "cell_type": "code",
      "metadata": {
        "colab": {
          "base_uri": "https://localhost:8080/",
          "height": 206
        },
        "id": "tF8yBSDQwVFi",
        "outputId": "597a8bcc-9e4b-448c-aadc-778cce2a22ae"
      },
      "source": [
        "data.head()"
      ],
      "execution_count": 7,
      "outputs": [
        {
          "output_type": "execute_result",
          "data": {
            "text/html": [
              "<div>\n",
              "<style scoped>\n",
              "    .dataframe tbody tr th:only-of-type {\n",
              "        vertical-align: middle;\n",
              "    }\n",
              "\n",
              "    .dataframe tbody tr th {\n",
              "        vertical-align: top;\n",
              "    }\n",
              "\n",
              "    .dataframe thead th {\n",
              "        text-align: right;\n",
              "    }\n",
              "</style>\n",
              "<table border=\"1\" class=\"dataframe\">\n",
              "  <thead>\n",
              "    <tr style=\"text-align: right;\">\n",
              "      <th></th>\n",
              "      <th>Pregnancies</th>\n",
              "      <th>Glucose</th>\n",
              "      <th>BloodPressure</th>\n",
              "      <th>SkinThickness</th>\n",
              "      <th>Insulin</th>\n",
              "      <th>BMI</th>\n",
              "      <th>DiabetesPedigreeFunction</th>\n",
              "      <th>Age</th>\n",
              "      <th>Outcome</th>\n",
              "    </tr>\n",
              "  </thead>\n",
              "  <tbody>\n",
              "    <tr>\n",
              "      <th>0</th>\n",
              "      <td>6</td>\n",
              "      <td>148</td>\n",
              "      <td>72</td>\n",
              "      <td>35</td>\n",
              "      <td>0</td>\n",
              "      <td>33.6</td>\n",
              "      <td>0.627</td>\n",
              "      <td>50</td>\n",
              "      <td>1</td>\n",
              "    </tr>\n",
              "    <tr>\n",
              "      <th>1</th>\n",
              "      <td>1</td>\n",
              "      <td>85</td>\n",
              "      <td>66</td>\n",
              "      <td>29</td>\n",
              "      <td>0</td>\n",
              "      <td>26.6</td>\n",
              "      <td>0.351</td>\n",
              "      <td>31</td>\n",
              "      <td>0</td>\n",
              "    </tr>\n",
              "    <tr>\n",
              "      <th>2</th>\n",
              "      <td>8</td>\n",
              "      <td>183</td>\n",
              "      <td>64</td>\n",
              "      <td>0</td>\n",
              "      <td>0</td>\n",
              "      <td>23.3</td>\n",
              "      <td>0.672</td>\n",
              "      <td>32</td>\n",
              "      <td>1</td>\n",
              "    </tr>\n",
              "    <tr>\n",
              "      <th>3</th>\n",
              "      <td>1</td>\n",
              "      <td>89</td>\n",
              "      <td>66</td>\n",
              "      <td>23</td>\n",
              "      <td>94</td>\n",
              "      <td>28.1</td>\n",
              "      <td>0.167</td>\n",
              "      <td>21</td>\n",
              "      <td>0</td>\n",
              "    </tr>\n",
              "    <tr>\n",
              "      <th>4</th>\n",
              "      <td>0</td>\n",
              "      <td>137</td>\n",
              "      <td>40</td>\n",
              "      <td>35</td>\n",
              "      <td>168</td>\n",
              "      <td>43.1</td>\n",
              "      <td>2.288</td>\n",
              "      <td>33</td>\n",
              "      <td>1</td>\n",
              "    </tr>\n",
              "  </tbody>\n",
              "</table>\n",
              "</div>"
            ],
            "text/plain": [
              "   Pregnancies  Glucose  BloodPressure  ...  DiabetesPedigreeFunction  Age  Outcome\n",
              "0            6      148             72  ...                     0.627   50        1\n",
              "1            1       85             66  ...                     0.351   31        0\n",
              "2            8      183             64  ...                     0.672   32        1\n",
              "3            1       89             66  ...                     0.167   21        0\n",
              "4            0      137             40  ...                     2.288   33        1\n",
              "\n",
              "[5 rows x 9 columns]"
            ]
          },
          "metadata": {},
          "execution_count": 7
        }
      ]
    },
    {
      "cell_type": "markdown",
      "metadata": {
        "id": "i6bRK2RPybed"
      },
      "source": [
        "Our dataset has 8 features (`Pregnancies, Glucose,BloodPressure, SkinThickness, Insulin, BMI,DiabetesPedigreeFunction, Age`) and the `Outcome`.\n"
      ]
    },
    {
      "cell_type": "markdown",
      "metadata": {
        "id": "GmygyA6JIcZ3"
      },
      "source": [
        "### Recoding null values\n",
        "Some variables have null values that were coded as \"0\" instead of NaN."
      ]
    },
    {
      "cell_type": "code",
      "metadata": {
        "id": "OOy4XYMoHgRr"
      },
      "source": [
        "fill_na = ['Glucose', 'BloodPressure', 'SkinThickness', 'Insulin', 'BMI',\n",
        "           'DiabetesPedigreeFunction']"
      ],
      "execution_count": 8,
      "outputs": []
    },
    {
      "cell_type": "code",
      "metadata": {
        "id": "QVGBQMEoIvaY"
      },
      "source": [
        "data[fill_na] = data[fill_na].replace(0, np.nan)"
      ],
      "execution_count": 9,
      "outputs": []
    },
    {
      "cell_type": "markdown",
      "metadata": {
        "id": "FUTtxwAqFe9n"
      },
      "source": [
        "### Changing mumeric features for categorical\n",
        "\n",
        "All of our features are numeric. I will build **extra features that are categorical** so we have different data types to handle."
      ]
    },
    {
      "cell_type": "markdown",
      "metadata": {
        "id": "5o426PGYzuPr"
      },
      "source": [
        "#### Age categories"
      ]
    },
    {
      "cell_type": "code",
      "metadata": {
        "id": "kC8hwneYzwlB"
      },
      "source": [
        "data[\"AgeClass\"] = pd.cut(data.Age, bins=[18, 29,49,64, 500], \n",
        "                       labels=[\"18 to 29 years\", \"30 to 49 years\", \n",
        "                               \"50 to 64 years\", \"65 or more\"],\n",
        "                       include_lowest=True).astype(\"object\")"
      ],
      "execution_count": 10,
      "outputs": []
    },
    {
      "cell_type": "code",
      "metadata": {
        "colab": {
          "base_uri": "https://localhost:8080/"
        },
        "id": "aLjXZG1w1IfO",
        "outputId": "58505372-d4d7-4b61-82c1-5855eb89ee5d"
      },
      "source": [
        "data[\"AgeClass\"].value_counts()"
      ],
      "execution_count": 11,
      "outputs": [
        {
          "output_type": "execute_result",
          "data": {
            "text/plain": [
              "18 to 29 years    396\n",
              "30 to 49 years    283\n",
              "50 to 64 years     73\n",
              "65 or more         16\n",
              "Name: AgeClass, dtype: int64"
            ]
          },
          "metadata": {},
          "execution_count": 11
        }
      ]
    },
    {
      "cell_type": "markdown",
      "metadata": {
        "id": "GYEESZ_VL1Gi"
      },
      "source": [
        "Dropping the original Age"
      ]
    },
    {
      "cell_type": "code",
      "metadata": {
        "id": "PWjcnAOGLnp_"
      },
      "source": [
        "data = data.drop('Age', axis=1)"
      ],
      "execution_count": 12,
      "outputs": []
    },
    {
      "cell_type": "markdown",
      "metadata": {
        "id": "t026TzdC0OvU"
      },
      "source": [
        "#### BMI classification"
      ]
    },
    {
      "cell_type": "code",
      "metadata": {
        "id": "ua5F2Vfw1bYu"
      },
      "source": [
        "data[\"BMIClass\"] = pd.cut(data.BMI, bins=[0, 18.4, 24.9, 29.9, 34.9, 40, 500],\n",
        "                      labels=[\"Underweight\", \"Normal weight\", \"Pre-obesity\",\n",
        "                              \"Obesity class I\",\"Obesity class II\", \"Obesity class III\"],\n",
        "                          include_lowest=True).astype(\"object\")"
      ],
      "execution_count": 13,
      "outputs": []
    },
    {
      "cell_type": "code",
      "metadata": {
        "colab": {
          "base_uri": "https://localhost:8080/"
        },
        "id": "BTOMuFqnLrPH",
        "outputId": "ff02155a-7701-4b61-c25a-45a178f5527c"
      },
      "source": [
        "data[\"BMIClass\"].value_counts()"
      ],
      "execution_count": 14,
      "outputs": [
        {
          "output_type": "execute_result",
          "data": {
            "text/plain": [
              "Obesity class I      224\n",
              "Pre-obesity          179\n",
              "Obesity class II     152\n",
              "Normal weight        102\n",
              "Obesity class III     96\n",
              "Underweight            4\n",
              "Name: BMIClass, dtype: int64"
            ]
          },
          "metadata": {},
          "execution_count": 14
        }
      ]
    },
    {
      "cell_type": "markdown",
      "metadata": {
        "id": "HESFYFuyLyjS"
      },
      "source": [
        "Drop the original BMI"
      ]
    },
    {
      "cell_type": "code",
      "metadata": {
        "id": "3vj7aSgwLrMf"
      },
      "source": [
        "data = data.drop('BMI', axis=1)"
      ],
      "execution_count": 15,
      "outputs": []
    },
    {
      "cell_type": "markdown",
      "metadata": {
        "id": "aoHd165VK_pU"
      },
      "source": [
        "## Spliting data in train and test"
      ]
    },
    {
      "cell_type": "code",
      "metadata": {
        "id": "uxu7bVgvLD_h"
      },
      "source": [
        "from sklearn.model_selection import train_test_split"
      ],
      "execution_count": 16,
      "outputs": []
    },
    {
      "cell_type": "markdown",
      "metadata": {
        "id": "cIpwHL0hLabQ"
      },
      "source": [
        "Splitting our features and our target"
      ]
    },
    {
      "cell_type": "code",
      "metadata": {
        "id": "AAv7gGRwMJ4J"
      },
      "source": [
        "# Features\n",
        "X = data.drop('Outcome', axis=1).copy()\n",
        "# Target\n",
        "y = data.Outcome.copy()"
      ],
      "execution_count": 17,
      "outputs": []
    },
    {
      "cell_type": "markdown",
      "metadata": {
        "id": "DJs9tQkRNicH"
      },
      "source": [
        "Splitting the train and test set. Considering that we have a classification problem, it is important to ensure the stratification of our target"
      ]
    },
    {
      "cell_type": "code",
      "metadata": {
        "id": "yYDEe03SLMfN"
      },
      "source": [
        "seed = np.random.seed(42)\n",
        "\n",
        "X_train, X_test, y_train, y_test = train_test_split(X, y, stratify=y, \n",
        "                                                    test_size=0.2)"
      ],
      "execution_count": 18,
      "outputs": []
    },
    {
      "cell_type": "markdown",
      "metadata": {
        "id": "5kfme8J0V-Pe"
      },
      "source": [
        "# Transforming numeric data"
      ]
    },
    {
      "cell_type": "code",
      "metadata": {
        "colab": {
          "base_uri": "https://localhost:8080/"
        },
        "id": "nvX25o_9NpgW",
        "outputId": "7b9d765e-9dfa-464c-807a-b75546d6899f"
      },
      "source": [
        "print(f\"Shape of the X_train set {X_train.shape}\")\n",
        "print(f\"Shape of the X_test set {X_test.shape}\\n\")\n",
        "print(f\"Shape of the y_train set {y_train.shape}\")\n",
        "print(f\"Shape of the y_test set {y_test.shape}\")"
      ],
      "execution_count": 19,
      "outputs": [
        {
          "output_type": "stream",
          "name": "stdout",
          "text": [
            "Shape of the X_train set (614, 8)\n",
            "Shape of the X_test set (154, 8)\n",
            "\n",
            "Shape of the y_train set (614,)\n",
            "Shape of the y_test set (154,)\n"
          ]
        }
      ]
    },
    {
      "cell_type": "markdown",
      "metadata": {
        "id": "2eerjPznWJ_G"
      },
      "source": [
        "Getting the numeric features"
      ]
    },
    {
      "cell_type": "code",
      "metadata": {
        "colab": {
          "base_uri": "https://localhost:8080/"
        },
        "id": "FvlPnOvTWJ8n",
        "outputId": "c498b895-46e2-4197-b937-cfe671d74bfc"
      },
      "source": [
        "# Getting the categorical features\n",
        "numeric = [col for col in X.columns if X[col].dtype != \"object\"]\n",
        "numeric"
      ],
      "execution_count": 20,
      "outputs": [
        {
          "output_type": "execute_result",
          "data": {
            "text/plain": [
              "['Pregnancies',\n",
              " 'Glucose',\n",
              " 'BloodPressure',\n",
              " 'SkinThickness',\n",
              " 'Insulin',\n",
              " 'DiabetesPedigreeFunction']"
            ]
          },
          "metadata": {},
          "execution_count": 20
        }
      ]
    },
    {
      "cell_type": "markdown",
      "metadata": {
        "id": "T9Ypv8bumDMO"
      },
      "source": [
        "### Imputing missing values\n",
        "The `SimpleImputer` class from scikitlearn can impute numeric data **considering the median, mean** or any other value that user wants."
      ]
    },
    {
      "cell_type": "markdown",
      "metadata": {
        "id": "Vpap0WKLnDW-"
      },
      "source": [
        "Checking misisng values"
      ]
    },
    {
      "cell_type": "code",
      "metadata": {
        "colab": {
          "base_uri": "https://localhost:8080/"
        },
        "id": "nO9GV4zemIl4",
        "outputId": "21553c00-f44a-43fb-e394-1805f4121fed"
      },
      "source": [
        "data[numeric].isna().sum()"
      ],
      "execution_count": 21,
      "outputs": [
        {
          "output_type": "execute_result",
          "data": {
            "text/plain": [
              "Pregnancies                   0\n",
              "Glucose                       5\n",
              "BloodPressure                35\n",
              "SkinThickness               227\n",
              "Insulin                     374\n",
              "DiabetesPedigreeFunction      0\n",
              "dtype: int64"
            ]
          },
          "metadata": {},
          "execution_count": 21
        }
      ]
    },
    {
      "cell_type": "markdown",
      "metadata": {
        "id": "fsHSMsJ9SpsO"
      },
      "source": [
        "Here we note how some features have many missing information. **Note**: usually, imputing so many values is not recommended but we will ignore that here."
      ]
    },
    {
      "cell_type": "code",
      "metadata": {
        "id": "JuJ8WMUBmSfg"
      },
      "source": [
        "# Importing the imputer\n",
        "from sklearn.impute import SimpleImputer"
      ],
      "execution_count": 22,
      "outputs": []
    },
    {
      "cell_type": "code",
      "metadata": {
        "id": "Htq9zv9tmUyj"
      },
      "source": [
        "# defining the imputer to use the median to fill missingnes\n",
        "imputer = SimpleImputer(strategy=\"most_frequent\")"
      ],
      "execution_count": 23,
      "outputs": []
    },
    {
      "cell_type": "markdown",
      "metadata": {
        "id": "zGPTxsOAjFJP"
      },
      "source": [
        "Every transfomer in sklearn has three methods:\n",
        "* `fit()`: the transformer learns the classes or values to be used for transforming the data. **Should only be used on the train set** to avoid data leakage.\n",
        "* `transform()`: transform the variables using the information gathered on the fit step. **Should be used in both sets**;\n",
        "* `fit_transform()`: performs the fit and transform steps simultaneously. **Should only be used in the train set**, and the the `transform()` method can be used on the test set.\n",
        "\n",
        "***\n",
        "Here is how it can be done."
      ]
    },
    {
      "cell_type": "code",
      "metadata": {
        "id": "CHhkt6H2m_BX"
      },
      "source": [
        "# Fit and transforming the imputer object with the X_train set\n",
        "X_train[numeric] = imputer.fit_transform(X_train[numeric])\n",
        "\n",
        "# After fit and transforming the numeric variables of the train_set\n",
        "# we can **transform** the test set\n",
        "X_test[numeric] = imputer.transform(X_test[numeric])"
      ],
      "execution_count": 24,
      "outputs": []
    },
    {
      "cell_type": "markdown",
      "metadata": {
        "id": "ZzwLp53-pxRe"
      },
      "source": [
        "Now we have no missing values "
      ]
    },
    {
      "cell_type": "code",
      "metadata": {
        "colab": {
          "base_uri": "https://localhost:8080/"
        },
        "id": "Z6J60mJJpt0U",
        "outputId": "e45b9064-2ea3-4a4f-e2cc-df1e8c089c59"
      },
      "source": [
        "X_train[numeric].isna().sum()"
      ],
      "execution_count": 25,
      "outputs": [
        {
          "output_type": "execute_result",
          "data": {
            "text/plain": [
              "Pregnancies                 0\n",
              "Glucose                     0\n",
              "BloodPressure               0\n",
              "SkinThickness               0\n",
              "Insulin                     0\n",
              "DiabetesPedigreeFunction    0\n",
              "dtype: int64"
            ]
          },
          "metadata": {},
          "execution_count": 25
        }
      ]
    },
    {
      "cell_type": "code",
      "metadata": {
        "colab": {
          "base_uri": "https://localhost:8080/"
        },
        "id": "seV7o-ZWp9_7",
        "outputId": "3e7bff26-5107-4f6e-dc7f-017bd247aa51"
      },
      "source": [
        "X_test[numeric].isna().sum()"
      ],
      "execution_count": 26,
      "outputs": [
        {
          "output_type": "execute_result",
          "data": {
            "text/plain": [
              "Pregnancies                 0\n",
              "Glucose                     0\n",
              "BloodPressure               0\n",
              "SkinThickness               0\n",
              "Insulin                     0\n",
              "DiabetesPedigreeFunction    0\n",
              "dtype: int64"
            ]
          },
          "metadata": {},
          "execution_count": 26
        }
      ]
    },
    {
      "cell_type": "markdown",
      "metadata": {
        "id": "XUk7_jK6WU5D"
      },
      "source": [
        "### Scaling your data\n",
        "Often ML models have a hard time handling data with different scales. For instance: **the distance from the patient's** house to the healthcare facility in **meters** vs. the **age of the patient in years**. In this sense it is a good practice to scale your data. \n",
        "\n",
        "The **sklearn** package has the `StandardScaler` class that works by **subtracting the mean** and then **dividing by the standard deviation**.\n"
      ]
    },
    {
      "cell_type": "markdown",
      "metadata": {
        "id": "kmy1Y9bTqKr1"
      },
      "source": [
        "Importing the encoder\n"
      ]
    },
    {
      "cell_type": "code",
      "metadata": {
        "id": "72ksudYTWJ5_"
      },
      "source": [
        "from sklearn.preprocessing import StandardScaler"
      ],
      "execution_count": 27,
      "outputs": []
    },
    {
      "cell_type": "code",
      "metadata": {
        "id": "PQW8jJf5WJ3J"
      },
      "source": [
        "# naming the scaler\n",
        "scaler = StandardScaler()"
      ],
      "execution_count": 28,
      "outputs": []
    },
    {
      "cell_type": "markdown",
      "metadata": {
        "id": "ZTcYYL1ov0K2"
      },
      "source": [
        "Fitting and transforming to the training data"
      ]
    },
    {
      "cell_type": "code",
      "metadata": {
        "id": "rt5lwKbYj5J-"
      },
      "source": [
        "X_train[numeric] = scaler.fit_transform(X_train[numeric])"
      ],
      "execution_count": 29,
      "outputs": []
    },
    {
      "cell_type": "code",
      "metadata": {
        "colab": {
          "base_uri": "https://localhost:8080/",
          "height": 423
        },
        "id": "-D2pR_aSYGTE",
        "outputId": "e55f768d-16f8-44ad-b641-c611788a1a5f"
      },
      "source": [
        "X_train[numeric]"
      ],
      "execution_count": 30,
      "outputs": [
        {
          "output_type": "execute_result",
          "data": {
            "text/html": [
              "<div>\n",
              "<style scoped>\n",
              "    .dataframe tbody tr th:only-of-type {\n",
              "        vertical-align: middle;\n",
              "    }\n",
              "\n",
              "    .dataframe tbody tr th {\n",
              "        vertical-align: top;\n",
              "    }\n",
              "\n",
              "    .dataframe thead th {\n",
              "        text-align: right;\n",
              "    }\n",
              "</style>\n",
              "<table border=\"1\" class=\"dataframe\">\n",
              "  <thead>\n",
              "    <tr style=\"text-align: right;\">\n",
              "      <th></th>\n",
              "      <th>Pregnancies</th>\n",
              "      <th>Glucose</th>\n",
              "      <th>BloodPressure</th>\n",
              "      <th>SkinThickness</th>\n",
              "      <th>Insulin</th>\n",
              "      <th>DiabetesPedigreeFunction</th>\n",
              "    </tr>\n",
              "  </thead>\n",
              "  <tbody>\n",
              "    <tr>\n",
              "      <th>353</th>\n",
              "      <td>-0.851355</td>\n",
              "      <td>-1.050652</td>\n",
              "      <td>-0.820182</td>\n",
              "      <td>-1.992318</td>\n",
              "      <td>-1.054792</td>\n",
              "      <td>0.310794</td>\n",
              "    </tr>\n",
              "    <tr>\n",
              "      <th>711</th>\n",
              "      <td>0.356576</td>\n",
              "      <td>0.148048</td>\n",
              "      <td>0.483615</td>\n",
              "      <td>-0.322535</td>\n",
              "      <td>-1.314596</td>\n",
              "      <td>-0.116439</td>\n",
              "    </tr>\n",
              "    <tr>\n",
              "      <th>373</th>\n",
              "      <td>-0.549372</td>\n",
              "      <td>-0.551194</td>\n",
              "      <td>-1.146131</td>\n",
              "      <td>1.124611</td>\n",
              "      <td>-0.423839</td>\n",
              "      <td>-0.764862</td>\n",
              "    </tr>\n",
              "    <tr>\n",
              "      <th>46</th>\n",
              "      <td>-0.851355</td>\n",
              "      <td>0.813992</td>\n",
              "      <td>-1.309105</td>\n",
              "      <td>0.234060</td>\n",
              "      <td>-0.287751</td>\n",
              "      <td>0.262314</td>\n",
              "    </tr>\n",
              "    <tr>\n",
              "      <th>682</th>\n",
              "      <td>-1.153338</td>\n",
              "      <td>-0.884166</td>\n",
              "      <td>-0.657207</td>\n",
              "      <td>1.013292</td>\n",
              "      <td>-0.287751</td>\n",
              "      <td>-0.337630</td>\n",
              "    </tr>\n",
              "    <tr>\n",
              "      <th>...</th>\n",
              "      <td>...</td>\n",
              "      <td>...</td>\n",
              "      <td>...</td>\n",
              "      <td>...</td>\n",
              "      <td>...</td>\n",
              "      <td>...</td>\n",
              "    </tr>\n",
              "    <tr>\n",
              "      <th>451</th>\n",
              "      <td>-0.549372</td>\n",
              "      <td>0.414426</td>\n",
              "      <td>-0.168283</td>\n",
              "      <td>0.234060</td>\n",
              "      <td>-0.287751</td>\n",
              "      <td>0.195653</td>\n",
              "    </tr>\n",
              "    <tr>\n",
              "      <th>113</th>\n",
              "      <td>0.054593</td>\n",
              "      <td>-1.516813</td>\n",
              "      <td>-0.820182</td>\n",
              "      <td>0.234060</td>\n",
              "      <td>-0.287751</td>\n",
              "      <td>-0.261879</td>\n",
              "    </tr>\n",
              "    <tr>\n",
              "      <th>556</th>\n",
              "      <td>-0.851355</td>\n",
              "      <td>-0.817571</td>\n",
              "      <td>-0.168283</td>\n",
              "      <td>1.124611</td>\n",
              "      <td>-0.287751</td>\n",
              "      <td>-0.786072</td>\n",
              "    </tr>\n",
              "    <tr>\n",
              "      <th>667</th>\n",
              "      <td>1.866489</td>\n",
              "      <td>-0.351410</td>\n",
              "      <td>-0.168283</td>\n",
              "      <td>-0.322535</td>\n",
              "      <td>-0.287751</td>\n",
              "      <td>-1.019383</td>\n",
              "    </tr>\n",
              "    <tr>\n",
              "      <th>107</th>\n",
              "      <td>0.054593</td>\n",
              "      <td>0.747398</td>\n",
              "      <td>-1.146131</td>\n",
              "      <td>-0.211216</td>\n",
              "      <td>0.145256</td>\n",
              "      <td>-0.577001</td>\n",
              "    </tr>\n",
              "  </tbody>\n",
              "</table>\n",
              "<p>614 rows × 6 columns</p>\n",
              "</div>"
            ],
            "text/plain": [
              "     Pregnancies   Glucose  ...   Insulin  DiabetesPedigreeFunction\n",
              "353    -0.851355 -1.050652  ... -1.054792                  0.310794\n",
              "711     0.356576  0.148048  ... -1.314596                 -0.116439\n",
              "373    -0.549372 -0.551194  ... -0.423839                 -0.764862\n",
              "46     -0.851355  0.813992  ... -0.287751                  0.262314\n",
              "682    -1.153338 -0.884166  ... -0.287751                 -0.337630\n",
              "..           ...       ...  ...       ...                       ...\n",
              "451    -0.549372  0.414426  ... -0.287751                  0.195653\n",
              "113     0.054593 -1.516813  ... -0.287751                 -0.261879\n",
              "556    -0.851355 -0.817571  ... -0.287751                 -0.786072\n",
              "667     1.866489 -0.351410  ... -0.287751                 -1.019383\n",
              "107     0.054593  0.747398  ...  0.145256                 -0.577001\n",
              "\n",
              "[614 rows x 6 columns]"
            ]
          },
          "metadata": {},
          "execution_count": 30
        }
      ]
    },
    {
      "cell_type": "markdown",
      "metadata": {
        "id": "jW8wcdv2v24_"
      },
      "source": [
        "Transforming the test data"
      ]
    },
    {
      "cell_type": "code",
      "metadata": {
        "id": "jV7iHZwAvZ_g"
      },
      "source": [
        "X_test[numeric] = scaler.transform(X_test[numeric])"
      ],
      "execution_count": 31,
      "outputs": []
    },
    {
      "cell_type": "code",
      "metadata": {
        "colab": {
          "base_uri": "https://localhost:8080/",
          "height": 423
        },
        "id": "DFB02KK9kHp4",
        "outputId": "e37012ea-7c9d-4afa-d0e4-ac462814f6bd"
      },
      "source": [
        "X_test[numeric]"
      ],
      "execution_count": 32,
      "outputs": [
        {
          "output_type": "execute_result",
          "data": {
            "text/html": [
              "<div>\n",
              "<style scoped>\n",
              "    .dataframe tbody tr th:only-of-type {\n",
              "        vertical-align: middle;\n",
              "    }\n",
              "\n",
              "    .dataframe tbody tr th {\n",
              "        vertical-align: top;\n",
              "    }\n",
              "\n",
              "    .dataframe thead th {\n",
              "        text-align: right;\n",
              "    }\n",
              "</style>\n",
              "<table border=\"1\" class=\"dataframe\">\n",
              "  <thead>\n",
              "    <tr style=\"text-align: right;\">\n",
              "      <th></th>\n",
              "      <th>Pregnancies</th>\n",
              "      <th>Glucose</th>\n",
              "      <th>BloodPressure</th>\n",
              "      <th>SkinThickness</th>\n",
              "      <th>Insulin</th>\n",
              "      <th>DiabetesPedigreeFunction</th>\n",
              "    </tr>\n",
              "  </thead>\n",
              "  <tbody>\n",
              "    <tr>\n",
              "      <th>44</th>\n",
              "      <td>0.960541</td>\n",
              "      <td>1.246856</td>\n",
              "      <td>-0.657207</td>\n",
              "      <td>0.234060</td>\n",
              "      <td>-0.287751</td>\n",
              "      <td>-0.555791</td>\n",
              "    </tr>\n",
              "    <tr>\n",
              "      <th>672</th>\n",
              "      <td>1.866489</td>\n",
              "      <td>-1.783190</td>\n",
              "      <td>2.765259</td>\n",
              "      <td>-0.767810</td>\n",
              "      <td>-0.980562</td>\n",
              "      <td>-0.583061</td>\n",
              "    </tr>\n",
              "    <tr>\n",
              "      <th>700</th>\n",
              "      <td>-0.549372</td>\n",
              "      <td>0.014859</td>\n",
              "      <td>0.320641</td>\n",
              "      <td>-0.322535</td>\n",
              "      <td>0.887553</td>\n",
              "      <td>0.016882</td>\n",
              "    </tr>\n",
              "    <tr>\n",
              "      <th>630</th>\n",
              "      <td>0.960541</td>\n",
              "      <td>-0.251519</td>\n",
              "      <td>-0.657207</td>\n",
              "      <td>0.234060</td>\n",
              "      <td>-0.287751</td>\n",
              "      <td>0.771356</td>\n",
              "    </tr>\n",
              "    <tr>\n",
              "      <th>81</th>\n",
              "      <td>-0.549372</td>\n",
              "      <td>-1.583407</td>\n",
              "      <td>-0.168283</td>\n",
              "      <td>0.234060</td>\n",
              "      <td>-0.287751</td>\n",
              "      <td>-1.137554</td>\n",
              "    </tr>\n",
              "    <tr>\n",
              "      <th>...</th>\n",
              "      <td>...</td>\n",
              "      <td>...</td>\n",
              "      <td>...</td>\n",
              "      <td>...</td>\n",
              "      <td>...</td>\n",
              "      <td>...</td>\n",
              "    </tr>\n",
              "    <tr>\n",
              "      <th>32</th>\n",
              "      <td>-0.247390</td>\n",
              "      <td>-1.117246</td>\n",
              "      <td>-1.146131</td>\n",
              "      <td>-2.103636</td>\n",
              "      <td>-0.918704</td>\n",
              "      <td>-0.637601</td>\n",
              "    </tr>\n",
              "    <tr>\n",
              "      <th>637</th>\n",
              "      <td>-0.549372</td>\n",
              "      <td>-0.917463</td>\n",
              "      <td>0.320641</td>\n",
              "      <td>-1.324404</td>\n",
              "      <td>-0.770244</td>\n",
              "      <td>0.519865</td>\n",
              "    </tr>\n",
              "    <tr>\n",
              "      <th>593</th>\n",
              "      <td>-0.549372</td>\n",
              "      <td>-1.317029</td>\n",
              "      <td>-1.635054</td>\n",
              "      <td>-0.879129</td>\n",
              "      <td>-0.164035</td>\n",
              "      <td>3.701382</td>\n",
              "    </tr>\n",
              "    <tr>\n",
              "      <th>425</th>\n",
              "      <td>0.054593</td>\n",
              "      <td>2.079286</td>\n",
              "      <td>0.483615</td>\n",
              "      <td>1.013292</td>\n",
              "      <td>1.840168</td>\n",
              "      <td>-0.646691</td>\n",
              "    </tr>\n",
              "    <tr>\n",
              "      <th>273</th>\n",
              "      <td>-0.851355</td>\n",
              "      <td>-1.683299</td>\n",
              "      <td>0.483615</td>\n",
              "      <td>2.237799</td>\n",
              "      <td>-1.030048</td>\n",
              "      <td>-0.167949</td>\n",
              "    </tr>\n",
              "  </tbody>\n",
              "</table>\n",
              "<p>154 rows × 6 columns</p>\n",
              "</div>"
            ],
            "text/plain": [
              "     Pregnancies   Glucose  ...   Insulin  DiabetesPedigreeFunction\n",
              "44      0.960541  1.246856  ... -0.287751                 -0.555791\n",
              "672     1.866489 -1.783190  ... -0.980562                 -0.583061\n",
              "700    -0.549372  0.014859  ...  0.887553                  0.016882\n",
              "630     0.960541 -0.251519  ... -0.287751                  0.771356\n",
              "81     -0.549372 -1.583407  ... -0.287751                 -1.137554\n",
              "..           ...       ...  ...       ...                       ...\n",
              "32     -0.247390 -1.117246  ... -0.918704                 -0.637601\n",
              "637    -0.549372 -0.917463  ... -0.770244                  0.519865\n",
              "593    -0.549372 -1.317029  ... -0.164035                  3.701382\n",
              "425     0.054593  2.079286  ...  1.840168                 -0.646691\n",
              "273    -0.851355 -1.683299  ... -1.030048                 -0.167949\n",
              "\n",
              "[154 rows x 6 columns]"
            ]
          },
          "metadata": {},
          "execution_count": 32
        }
      ]
    },
    {
      "cell_type": "markdown",
      "metadata": {
        "id": "b89nRwLM1Eu5"
      },
      "source": [
        "# Speeding it up with Pipelines and the ColumnTransformer\n",
        "The process above is quite \"messy\" and confusing. Luckly, sklearn provides the Pipeline and ColumnTransformer (among other) classes that can greaty help you in training and evaluating machine learning models.\n",
        "\n",
        "The **Pipeline** allows you to define a series of steps that need to be performed in the specified order. Here we will create the `numeric_transformer` to:\n",
        "1. Impute missing values with the median for numeric variables;\n",
        "2. Apply the StandardScaler method to scale data.\n",
        "\n",
        "The `Pipeline` takes a list (`[]`) of steps, and each step is organized in a tuple (`()`). The tuple takes two arguments: the name of the method and the processor used. The final shape should be something like this: `Pipeline([(\"step1\", processor1),...,(\"stepN\", processorN])`\n",
        "\n",
        "---\n",
        "\n",
        "Next, we will use the **ColumnTransformer** to specify which columns will be transformed. This method is similar to the **Pipeline**, but the difference is that it takes a third element inside the tuple with the names of the columns to be transformed. `ColumnTransformer([\"step1\", processor1, [\"columnA\", \"columnB\"], ..., [\"stepN\", processorN, [\"columnC\", \"columnD\"]])`"
      ]
    },
    {
      "cell_type": "code",
      "metadata": {
        "id": "bJJaxPK11HQe"
      },
      "source": [
        "# Importing the Pipeline class\n",
        "from sklearn.pipeline import Pipeline"
      ],
      "execution_count": 33,
      "outputs": []
    },
    {
      "cell_type": "code",
      "metadata": {
        "id": "tjnOVDmz1O_z"
      },
      "source": [
        "# Defining the cat_transformer, specifying the steps to be taken\n",
        "# 1. First we will apply the imputer defined previously (using the SimpleImputer);\n",
        "# 2. And then we will apply the scaler defined previously (using the StandardScaler)\n",
        "numeric_transformer = Pipeline(\n",
        "    [(\"imputer\", imputer),\n",
        "     (\"scaler\", scaler)]\n",
        ")"
      ],
      "execution_count": 34,
      "outputs": []
    },
    {
      "cell_type": "markdown",
      "metadata": {
        "id": "X14aYR0lZ4KU"
      },
      "source": [
        "The usage of the `numeric_transformer` is quite straightforward. You *fit_transform()* to numeric variables in the training data and only *transform()* the numeric variables of the test data."
      ]
    },
    {
      "cell_type": "code",
      "metadata": {
        "id": "wQp-MaS4aL3Y"
      },
      "source": [
        "# Getting a clean version of the train/test X/y sets.\n",
        "seed = np.random.seed(42)\n",
        "\n",
        "X_train, X_test, y_train, y_test = train_test_split(X, y, stratify=y, \n",
        "                                                    test_size=0.2)"
      ],
      "execution_count": 35,
      "outputs": []
    },
    {
      "cell_type": "code",
      "metadata": {
        "colab": {
          "base_uri": "https://localhost:8080/",
          "height": 423
        },
        "id": "JMvxoXn9ahoD",
        "outputId": "f66edca9-36f2-4641-f699-582a3ee776ee"
      },
      "source": [
        "# Fit_transform the train data\n",
        "X_train[numeric] = numeric_transformer.fit_transform(X_train[numeric])\n",
        "X_train[numeric]"
      ],
      "execution_count": 36,
      "outputs": [
        {
          "output_type": "execute_result",
          "data": {
            "text/html": [
              "<div>\n",
              "<style scoped>\n",
              "    .dataframe tbody tr th:only-of-type {\n",
              "        vertical-align: middle;\n",
              "    }\n",
              "\n",
              "    .dataframe tbody tr th {\n",
              "        vertical-align: top;\n",
              "    }\n",
              "\n",
              "    .dataframe thead th {\n",
              "        text-align: right;\n",
              "    }\n",
              "</style>\n",
              "<table border=\"1\" class=\"dataframe\">\n",
              "  <thead>\n",
              "    <tr style=\"text-align: right;\">\n",
              "      <th></th>\n",
              "      <th>Pregnancies</th>\n",
              "      <th>Glucose</th>\n",
              "      <th>BloodPressure</th>\n",
              "      <th>SkinThickness</th>\n",
              "      <th>Insulin</th>\n",
              "      <th>DiabetesPedigreeFunction</th>\n",
              "    </tr>\n",
              "  </thead>\n",
              "  <tbody>\n",
              "    <tr>\n",
              "      <th>353</th>\n",
              "      <td>-0.851355</td>\n",
              "      <td>-1.050652</td>\n",
              "      <td>-0.820182</td>\n",
              "      <td>-1.992318</td>\n",
              "      <td>-1.054792</td>\n",
              "      <td>0.310794</td>\n",
              "    </tr>\n",
              "    <tr>\n",
              "      <th>711</th>\n",
              "      <td>0.356576</td>\n",
              "      <td>0.148048</td>\n",
              "      <td>0.483615</td>\n",
              "      <td>-0.322535</td>\n",
              "      <td>-1.314596</td>\n",
              "      <td>-0.116439</td>\n",
              "    </tr>\n",
              "    <tr>\n",
              "      <th>373</th>\n",
              "      <td>-0.549372</td>\n",
              "      <td>-0.551194</td>\n",
              "      <td>-1.146131</td>\n",
              "      <td>1.124611</td>\n",
              "      <td>-0.423839</td>\n",
              "      <td>-0.764862</td>\n",
              "    </tr>\n",
              "    <tr>\n",
              "      <th>46</th>\n",
              "      <td>-0.851355</td>\n",
              "      <td>0.813992</td>\n",
              "      <td>-1.309105</td>\n",
              "      <td>0.234060</td>\n",
              "      <td>-0.287751</td>\n",
              "      <td>0.262314</td>\n",
              "    </tr>\n",
              "    <tr>\n",
              "      <th>682</th>\n",
              "      <td>-1.153338</td>\n",
              "      <td>-0.884166</td>\n",
              "      <td>-0.657207</td>\n",
              "      <td>1.013292</td>\n",
              "      <td>-0.287751</td>\n",
              "      <td>-0.337630</td>\n",
              "    </tr>\n",
              "    <tr>\n",
              "      <th>...</th>\n",
              "      <td>...</td>\n",
              "      <td>...</td>\n",
              "      <td>...</td>\n",
              "      <td>...</td>\n",
              "      <td>...</td>\n",
              "      <td>...</td>\n",
              "    </tr>\n",
              "    <tr>\n",
              "      <th>451</th>\n",
              "      <td>-0.549372</td>\n",
              "      <td>0.414426</td>\n",
              "      <td>-0.168283</td>\n",
              "      <td>0.234060</td>\n",
              "      <td>-0.287751</td>\n",
              "      <td>0.195653</td>\n",
              "    </tr>\n",
              "    <tr>\n",
              "      <th>113</th>\n",
              "      <td>0.054593</td>\n",
              "      <td>-1.516813</td>\n",
              "      <td>-0.820182</td>\n",
              "      <td>0.234060</td>\n",
              "      <td>-0.287751</td>\n",
              "      <td>-0.261879</td>\n",
              "    </tr>\n",
              "    <tr>\n",
              "      <th>556</th>\n",
              "      <td>-0.851355</td>\n",
              "      <td>-0.817571</td>\n",
              "      <td>-0.168283</td>\n",
              "      <td>1.124611</td>\n",
              "      <td>-0.287751</td>\n",
              "      <td>-0.786072</td>\n",
              "    </tr>\n",
              "    <tr>\n",
              "      <th>667</th>\n",
              "      <td>1.866489</td>\n",
              "      <td>-0.351410</td>\n",
              "      <td>-0.168283</td>\n",
              "      <td>-0.322535</td>\n",
              "      <td>-0.287751</td>\n",
              "      <td>-1.019383</td>\n",
              "    </tr>\n",
              "    <tr>\n",
              "      <th>107</th>\n",
              "      <td>0.054593</td>\n",
              "      <td>0.747398</td>\n",
              "      <td>-1.146131</td>\n",
              "      <td>-0.211216</td>\n",
              "      <td>0.145256</td>\n",
              "      <td>-0.577001</td>\n",
              "    </tr>\n",
              "  </tbody>\n",
              "</table>\n",
              "<p>614 rows × 6 columns</p>\n",
              "</div>"
            ],
            "text/plain": [
              "     Pregnancies   Glucose  ...   Insulin  DiabetesPedigreeFunction\n",
              "353    -0.851355 -1.050652  ... -1.054792                  0.310794\n",
              "711     0.356576  0.148048  ... -1.314596                 -0.116439\n",
              "373    -0.549372 -0.551194  ... -0.423839                 -0.764862\n",
              "46     -0.851355  0.813992  ... -0.287751                  0.262314\n",
              "682    -1.153338 -0.884166  ... -0.287751                 -0.337630\n",
              "..           ...       ...  ...       ...                       ...\n",
              "451    -0.549372  0.414426  ... -0.287751                  0.195653\n",
              "113     0.054593 -1.516813  ... -0.287751                 -0.261879\n",
              "556    -0.851355 -0.817571  ... -0.287751                 -0.786072\n",
              "667     1.866489 -0.351410  ... -0.287751                 -1.019383\n",
              "107     0.054593  0.747398  ...  0.145256                 -0.577001\n",
              "\n",
              "[614 rows x 6 columns]"
            ]
          },
          "metadata": {},
          "execution_count": 36
        }
      ]
    },
    {
      "cell_type": "code",
      "metadata": {
        "colab": {
          "base_uri": "https://localhost:8080/",
          "height": 423
        },
        "id": "IFdd9IU6aycm",
        "outputId": "e3a4b6a7-aa6b-4619-846e-386360bf7824"
      },
      "source": [
        "# Transform test data\n",
        "X_test[numeric] = numeric_transformer.transform(X_test[numeric])\n",
        "X_test[numeric]"
      ],
      "execution_count": 37,
      "outputs": [
        {
          "output_type": "execute_result",
          "data": {
            "text/html": [
              "<div>\n",
              "<style scoped>\n",
              "    .dataframe tbody tr th:only-of-type {\n",
              "        vertical-align: middle;\n",
              "    }\n",
              "\n",
              "    .dataframe tbody tr th {\n",
              "        vertical-align: top;\n",
              "    }\n",
              "\n",
              "    .dataframe thead th {\n",
              "        text-align: right;\n",
              "    }\n",
              "</style>\n",
              "<table border=\"1\" class=\"dataframe\">\n",
              "  <thead>\n",
              "    <tr style=\"text-align: right;\">\n",
              "      <th></th>\n",
              "      <th>Pregnancies</th>\n",
              "      <th>Glucose</th>\n",
              "      <th>BloodPressure</th>\n",
              "      <th>SkinThickness</th>\n",
              "      <th>Insulin</th>\n",
              "      <th>DiabetesPedigreeFunction</th>\n",
              "    </tr>\n",
              "  </thead>\n",
              "  <tbody>\n",
              "    <tr>\n",
              "      <th>44</th>\n",
              "      <td>0.960541</td>\n",
              "      <td>1.246856</td>\n",
              "      <td>-0.657207</td>\n",
              "      <td>0.234060</td>\n",
              "      <td>-0.287751</td>\n",
              "      <td>-0.555791</td>\n",
              "    </tr>\n",
              "    <tr>\n",
              "      <th>672</th>\n",
              "      <td>1.866489</td>\n",
              "      <td>-1.783190</td>\n",
              "      <td>2.765259</td>\n",
              "      <td>-0.767810</td>\n",
              "      <td>-0.980562</td>\n",
              "      <td>-0.583061</td>\n",
              "    </tr>\n",
              "    <tr>\n",
              "      <th>700</th>\n",
              "      <td>-0.549372</td>\n",
              "      <td>0.014859</td>\n",
              "      <td>0.320641</td>\n",
              "      <td>-0.322535</td>\n",
              "      <td>0.887553</td>\n",
              "      <td>0.016882</td>\n",
              "    </tr>\n",
              "    <tr>\n",
              "      <th>630</th>\n",
              "      <td>0.960541</td>\n",
              "      <td>-0.251519</td>\n",
              "      <td>-0.657207</td>\n",
              "      <td>0.234060</td>\n",
              "      <td>-0.287751</td>\n",
              "      <td>0.771356</td>\n",
              "    </tr>\n",
              "    <tr>\n",
              "      <th>81</th>\n",
              "      <td>-0.549372</td>\n",
              "      <td>-1.583407</td>\n",
              "      <td>-0.168283</td>\n",
              "      <td>0.234060</td>\n",
              "      <td>-0.287751</td>\n",
              "      <td>-1.137554</td>\n",
              "    </tr>\n",
              "    <tr>\n",
              "      <th>...</th>\n",
              "      <td>...</td>\n",
              "      <td>...</td>\n",
              "      <td>...</td>\n",
              "      <td>...</td>\n",
              "      <td>...</td>\n",
              "      <td>...</td>\n",
              "    </tr>\n",
              "    <tr>\n",
              "      <th>32</th>\n",
              "      <td>-0.247390</td>\n",
              "      <td>-1.117246</td>\n",
              "      <td>-1.146131</td>\n",
              "      <td>-2.103636</td>\n",
              "      <td>-0.918704</td>\n",
              "      <td>-0.637601</td>\n",
              "    </tr>\n",
              "    <tr>\n",
              "      <th>637</th>\n",
              "      <td>-0.549372</td>\n",
              "      <td>-0.917463</td>\n",
              "      <td>0.320641</td>\n",
              "      <td>-1.324404</td>\n",
              "      <td>-0.770244</td>\n",
              "      <td>0.519865</td>\n",
              "    </tr>\n",
              "    <tr>\n",
              "      <th>593</th>\n",
              "      <td>-0.549372</td>\n",
              "      <td>-1.317029</td>\n",
              "      <td>-1.635054</td>\n",
              "      <td>-0.879129</td>\n",
              "      <td>-0.164035</td>\n",
              "      <td>3.701382</td>\n",
              "    </tr>\n",
              "    <tr>\n",
              "      <th>425</th>\n",
              "      <td>0.054593</td>\n",
              "      <td>2.079286</td>\n",
              "      <td>0.483615</td>\n",
              "      <td>1.013292</td>\n",
              "      <td>1.840168</td>\n",
              "      <td>-0.646691</td>\n",
              "    </tr>\n",
              "    <tr>\n",
              "      <th>273</th>\n",
              "      <td>-0.851355</td>\n",
              "      <td>-1.683299</td>\n",
              "      <td>0.483615</td>\n",
              "      <td>2.237799</td>\n",
              "      <td>-1.030048</td>\n",
              "      <td>-0.167949</td>\n",
              "    </tr>\n",
              "  </tbody>\n",
              "</table>\n",
              "<p>154 rows × 6 columns</p>\n",
              "</div>"
            ],
            "text/plain": [
              "     Pregnancies   Glucose  ...   Insulin  DiabetesPedigreeFunction\n",
              "44      0.960541  1.246856  ... -0.287751                 -0.555791\n",
              "672     1.866489 -1.783190  ... -0.980562                 -0.583061\n",
              "700    -0.549372  0.014859  ...  0.887553                  0.016882\n",
              "630     0.960541 -0.251519  ... -0.287751                  0.771356\n",
              "81     -0.549372 -1.583407  ... -0.287751                 -1.137554\n",
              "..           ...       ...  ...       ...                       ...\n",
              "32     -0.247390 -1.117246  ... -0.918704                 -0.637601\n",
              "637    -0.549372 -0.917463  ... -0.770244                  0.519865\n",
              "593    -0.549372 -1.317029  ... -0.164035                  3.701382\n",
              "425     0.054593  2.079286  ...  1.840168                 -0.646691\n",
              "273    -0.851355 -1.683299  ... -1.030048                 -0.167949\n",
              "\n",
              "[154 rows x 6 columns]"
            ]
          },
          "metadata": {},
          "execution_count": 37
        }
      ]
    },
    {
      "cell_type": "markdown",
      "metadata": {
        "id": "EQLMqmFp5JbM"
      },
      "source": [
        "Now we define the ColumnTransformer method and specif which columns should be transformed.\n",
        "\n",
        "**Note**: I will add an extra pipeline to transform categorical data for the sake of completion. You can checkout the step-by-step guide for pre-processing ofcategorical data in the [GEMINI](https://github.com/gemini-duke/toolbox/blob/main/machine-learning/data-preparation/Preprocessing_of_categorical_data_sklearn.ipynb) github"
      ]
    },
    {
      "cell_type": "code",
      "metadata": {
        "id": "0wCeMjLsZThp"
      },
      "source": [
        "# Extra step for categorical variables -- see code in the link above\n",
        "from sklearn.preprocessing import OneHotEncoder\n",
        "\n",
        "cat_transformer = Pipeline(\n",
        "    [(\"imputer\", SimpleImputer(strategy=\"most_frequent\")),\n",
        "     (\"ohe\", OneHotEncoder(sparse=False, handle_unknown=\"ignore\"))]\n",
        ")"
      ],
      "execution_count": 38,
      "outputs": []
    },
    {
      "cell_type": "code",
      "metadata": {
        "colab": {
          "base_uri": "https://localhost:8080/"
        },
        "id": "8Wb_jr_khSkF",
        "outputId": "59065190-85d4-4ccf-a630-76432fec4681"
      },
      "source": [
        "# Getting the names of categorical columns\n",
        "categorical = [col for col in X.columns if X[col].dtype == \"object\"]\n",
        "categorical"
      ],
      "execution_count": 39,
      "outputs": [
        {
          "output_type": "execute_result",
          "data": {
            "text/plain": [
              "['AgeClass', 'BMIClass']"
            ]
          },
          "metadata": {},
          "execution_count": 39
        }
      ]
    },
    {
      "cell_type": "code",
      "metadata": {
        "id": "lU4mrX-r2D4h"
      },
      "source": [
        "# Here we specify which pipelines will be applied to each set of variables\n",
        "from sklearn.compose import ColumnTransformer\n",
        "transformer = ColumnTransformer(\n",
        "    [(\"categoric_data\", cat_transformer, categorical),\n",
        "     (\"numeric_data\", numeric_transformer, numeric)])"
      ],
      "execution_count": 40,
      "outputs": []
    },
    {
      "cell_type": "markdown",
      "metadata": {
        "id": "0yU2GDxc9Kn0"
      },
      "source": [
        "Visualizing the pipeline"
      ]
    },
    {
      "cell_type": "code",
      "metadata": {
        "colab": {
          "base_uri": "https://localhost:8080/",
          "height": 134
        },
        "id": "nnMBWT9C9MWk",
        "outputId": "8106a073-303c-41bf-913d-feaff7d802d3"
      },
      "source": [
        "from sklearn import set_config\n",
        "set_config(display=\"diagram\")\n",
        "\n",
        "display(transformer)"
      ],
      "execution_count": 41,
      "outputs": [
        {
          "output_type": "display_data",
          "data": {
            "text/html": [
              "<style>div.sk-top-container {color: black;background-color: white;}div.sk-toggleable {background-color: white;}label.sk-toggleable__label {cursor: pointer;display: block;width: 100%;margin-bottom: 0;padding: 0.2em 0.3em;box-sizing: border-box;text-align: center;}div.sk-toggleable__content {max-height: 0;max-width: 0;overflow: hidden;text-align: left;background-color: #f0f8ff;}div.sk-toggleable__content pre {margin: 0.2em;color: black;border-radius: 0.25em;background-color: #f0f8ff;}input.sk-toggleable__control:checked~div.sk-toggleable__content {max-height: 200px;max-width: 100%;overflow: auto;}div.sk-estimator input.sk-toggleable__control:checked~label.sk-toggleable__label {background-color: #d4ebff;}div.sk-label input.sk-toggleable__control:checked~label.sk-toggleable__label {background-color: #d4ebff;}input.sk-hidden--visually {border: 0;clip: rect(1px 1px 1px 1px);clip: rect(1px, 1px, 1px, 1px);height: 1px;margin: -1px;overflow: hidden;padding: 0;position: absolute;width: 1px;}div.sk-estimator {font-family: monospace;background-color: #f0f8ff;margin: 0.25em 0.25em;border: 1px dotted black;border-radius: 0.25em;box-sizing: border-box;}div.sk-estimator:hover {background-color: #d4ebff;}div.sk-parallel-item::after {content: \"\";width: 100%;border-bottom: 1px solid gray;flex-grow: 1;}div.sk-label:hover label.sk-toggleable__label {background-color: #d4ebff;}div.sk-serial::before {content: \"\";position: absolute;border-left: 1px solid gray;box-sizing: border-box;top: 2em;bottom: 0;left: 50%;}div.sk-serial {display: flex;flex-direction: column;align-items: center;background-color: white;}div.sk-item {z-index: 1;}div.sk-parallel {display: flex;align-items: stretch;justify-content: center;background-color: white;}div.sk-parallel-item {display: flex;flex-direction: column;position: relative;background-color: white;}div.sk-parallel-item:first-child::after {align-self: flex-end;width: 50%;}div.sk-parallel-item:last-child::after {align-self: flex-start;width: 50%;}div.sk-parallel-item:only-child::after {width: 0;}div.sk-dashed-wrapped {border: 1px dashed gray;margin: 0.2em;box-sizing: border-box;padding-bottom: 0.1em;background-color: white;position: relative;}div.sk-label label {font-family: monospace;font-weight: bold;background-color: white;display: inline-block;line-height: 1.2em;}div.sk-label-container {position: relative;z-index: 2;text-align: center;}div.sk-container {display: inline-block;position: relative;}</style><div class=\"sk-top-container\"><div class=\"sk-container\"><div class=\"sk-item sk-dashed-wrapped\"><div class=\"sk-label-container\"><div class=\"sk-label sk-toggleable\"><input class=\"sk-toggleable__control sk-hidden--visually\" id=\"1bea6945-4b81-4adc-a73b-bd0223c12bdb\" type=\"checkbox\" ><label class=\"sk-toggleable__label\" for=\"1bea6945-4b81-4adc-a73b-bd0223c12bdb\">ColumnTransformer</label><div class=\"sk-toggleable__content\"><pre>ColumnTransformer(transformers=[('categoric_data',\n",
              "                                 Pipeline(steps=[('imputer',\n",
              "                                                  SimpleImputer(strategy='most_frequent')),\n",
              "                                                 ('ohe',\n",
              "                                                  OneHotEncoder(handle_unknown='ignore',\n",
              "                                                                sparse=False))]),\n",
              "                                 ['AgeClass', 'BMIClass']),\n",
              "                                ('numeric_data',\n",
              "                                 Pipeline(steps=[('imputer',\n",
              "                                                  SimpleImputer(strategy='most_frequent')),\n",
              "                                                 ('scaler', StandardScaler())]),\n",
              "                                 ['Pregnancies', 'Glucose', 'BloodPressure',\n",
              "                                  'SkinThickness', 'Insulin',\n",
              "                                  'DiabetesPedigreeFunction'])])</pre></div></div></div><div class=\"sk-parallel\"><div class=\"sk-parallel-item\"><div class=\"sk-item\"><div class=\"sk-label-container\"><div class=\"sk-label sk-toggleable\"><input class=\"sk-toggleable__control sk-hidden--visually\" id=\"e2facd4c-7520-41ba-adaa-a143f60ed86a\" type=\"checkbox\" ><label class=\"sk-toggleable__label\" for=\"e2facd4c-7520-41ba-adaa-a143f60ed86a\">categoric_data</label><div class=\"sk-toggleable__content\"><pre>['AgeClass', 'BMIClass']</pre></div></div></div><div class=\"sk-serial\"><div class=\"sk-item\"><div class=\"sk-serial\"><div class=\"sk-item\"><div class=\"sk-estimator sk-toggleable\"><input class=\"sk-toggleable__control sk-hidden--visually\" id=\"62758e7a-dad9-4658-b143-662b7ef1ce0b\" type=\"checkbox\" ><label class=\"sk-toggleable__label\" for=\"62758e7a-dad9-4658-b143-662b7ef1ce0b\">SimpleImputer</label><div class=\"sk-toggleable__content\"><pre>SimpleImputer(strategy='most_frequent')</pre></div></div></div><div class=\"sk-item\"><div class=\"sk-estimator sk-toggleable\"><input class=\"sk-toggleable__control sk-hidden--visually\" id=\"a929b740-fb8a-43cc-ac7c-2d62c57c2638\" type=\"checkbox\" ><label class=\"sk-toggleable__label\" for=\"a929b740-fb8a-43cc-ac7c-2d62c57c2638\">OneHotEncoder</label><div class=\"sk-toggleable__content\"><pre>OneHotEncoder(handle_unknown='ignore', sparse=False)</pre></div></div></div></div></div></div></div></div><div class=\"sk-parallel-item\"><div class=\"sk-item\"><div class=\"sk-label-container\"><div class=\"sk-label sk-toggleable\"><input class=\"sk-toggleable__control sk-hidden--visually\" id=\"a0764eb4-b763-45f4-be58-486b4995d231\" type=\"checkbox\" ><label class=\"sk-toggleable__label\" for=\"a0764eb4-b763-45f4-be58-486b4995d231\">numeric_data</label><div class=\"sk-toggleable__content\"><pre>['Pregnancies', 'Glucose', 'BloodPressure', 'SkinThickness', 'Insulin', 'DiabetesPedigreeFunction']</pre></div></div></div><div class=\"sk-serial\"><div class=\"sk-item\"><div class=\"sk-serial\"><div class=\"sk-item\"><div class=\"sk-estimator sk-toggleable\"><input class=\"sk-toggleable__control sk-hidden--visually\" id=\"b8dd2de1-8532-4d92-aa8a-c47896b102c4\" type=\"checkbox\" ><label class=\"sk-toggleable__label\" for=\"b8dd2de1-8532-4d92-aa8a-c47896b102c4\">SimpleImputer</label><div class=\"sk-toggleable__content\"><pre>SimpleImputer(strategy='most_frequent')</pre></div></div></div><div class=\"sk-item\"><div class=\"sk-estimator sk-toggleable\"><input class=\"sk-toggleable__control sk-hidden--visually\" id=\"b82bc379-2c4e-4e2f-8f18-a5d3d2a030d7\" type=\"checkbox\" ><label class=\"sk-toggleable__label\" for=\"b82bc379-2c4e-4e2f-8f18-a5d3d2a030d7\">StandardScaler</label><div class=\"sk-toggleable__content\"><pre>StandardScaler()</pre></div></div></div></div></div></div></div></div></div></div></div></div>"
            ],
            "text/plain": [
              "ColumnTransformer(transformers=[('categoric_data',\n",
              "                                 Pipeline(steps=[('imputer',\n",
              "                                                  SimpleImputer(strategy='most_frequent')),\n",
              "                                                 ('ohe',\n",
              "                                                  OneHotEncoder(handle_unknown='ignore',\n",
              "                                                                sparse=False))]),\n",
              "                                 ['AgeClass', 'BMIClass']),\n",
              "                                ('numeric_data',\n",
              "                                 Pipeline(steps=[('imputer',\n",
              "                                                  SimpleImputer(strategy='most_frequent')),\n",
              "                                                 ('scaler', StandardScaler())]),\n",
              "                                 ['Pregnancies', 'Glucose', 'BloodPressure',\n",
              "                                  'SkinThickness', 'Insulin',\n",
              "                                  'DiabetesPedigreeFunction'])])"
            ]
          },
          "metadata": {}
        }
      ]
    },
    {
      "cell_type": "markdown",
      "metadata": {
        "id": "tCc5CulX5r_i"
      },
      "source": [
        "Now it is easy to obtain the transformed train and test versions of your dataset"
      ]
    },
    {
      "cell_type": "code",
      "metadata": {
        "id": "LGF02bsW5wqk"
      },
      "source": [
        "seed = np.random.seed(42)\n",
        "\n",
        "X_train, X_test, y_train, y_test = train_test_split(X, y, stratify=y, \n",
        "                                                    test_size=0.2)"
      ],
      "execution_count": 42,
      "outputs": []
    },
    {
      "cell_type": "code",
      "metadata": {
        "id": "Cbb5cGAS51hd"
      },
      "source": [
        "# We will use fit_transform in the train set\n",
        "X_train_prep = transformer.fit_transform(X_train)\n",
        "# And we will only use the transform on the test set\n",
        "X_test_prep = transformer.transform(X_test)"
      ],
      "execution_count": 43,
      "outputs": []
    },
    {
      "cell_type": "code",
      "metadata": {
        "colab": {
          "base_uri": "https://localhost:8080/"
        },
        "id": "ZbNVJU176SPi",
        "outputId": "695a37a8-a3b0-402c-e1cb-53a50609f0dd"
      },
      "source": [
        "X_train_prep"
      ],
      "execution_count": 44,
      "outputs": [
        {
          "output_type": "execute_result",
          "data": {
            "text/plain": [
              "array([[ 1.        ,  0.        ,  0.        , ..., -1.99231762,\n",
              "        -1.05479169,  0.31079384],\n",
              "       [ 0.        ,  1.        ,  0.        , ..., -0.32253463,\n",
              "        -1.31459578, -0.11643851],\n",
              "       [ 1.        ,  0.        ,  0.        , ...,  1.12461063,\n",
              "        -0.42383891, -0.76486207],\n",
              "       ...,\n",
              "       [ 0.        ,  1.        ,  0.        , ...,  1.12461063,\n",
              "        -0.28775106, -0.78607218],\n",
              "       [ 0.        ,  1.        ,  0.        , ..., -0.32253463,\n",
              "        -0.28775106, -1.01938346],\n",
              "       [ 0.        ,  1.        ,  0.        , ..., -0.21121576,\n",
              "         0.14525575, -0.57700104]])"
            ]
          },
          "metadata": {},
          "execution_count": 44
        }
      ]
    },
    {
      "cell_type": "markdown",
      "metadata": {
        "id": "sMDk9Gl55iKd"
      },
      "source": [
        "## Bonus: creating a pipeline that transforms and trains a model"
      ]
    },
    {
      "cell_type": "code",
      "metadata": {
        "id": "6Hazyqw7768Y"
      },
      "source": [
        "from sklearn.linear_model import LogisticRegression\n",
        "logit = LogisticRegression()"
      ],
      "execution_count": 45,
      "outputs": []
    },
    {
      "cell_type": "code",
      "metadata": {
        "id": "VNq60Cl-7_qo"
      },
      "source": [
        "final_pipe = Pipeline(\n",
        "    [(\"transformations\", transformer),\n",
        "     (\"logit\", logit)]\n",
        ")"
      ],
      "execution_count": 46,
      "outputs": []
    },
    {
      "cell_type": "code",
      "metadata": {
        "colab": {
          "base_uri": "https://localhost:8080/",
          "height": 196
        },
        "id": "ll5vwDqQ-l-W",
        "outputId": "ea4ce607-4c4e-430f-fdf3-d88f0ff1a8b2"
      },
      "source": [
        "display(final_pipe)"
      ],
      "execution_count": 47,
      "outputs": [
        {
          "output_type": "display_data",
          "data": {
            "text/html": [
              "<style>div.sk-top-container {color: black;background-color: white;}div.sk-toggleable {background-color: white;}label.sk-toggleable__label {cursor: pointer;display: block;width: 100%;margin-bottom: 0;padding: 0.2em 0.3em;box-sizing: border-box;text-align: center;}div.sk-toggleable__content {max-height: 0;max-width: 0;overflow: hidden;text-align: left;background-color: #f0f8ff;}div.sk-toggleable__content pre {margin: 0.2em;color: black;border-radius: 0.25em;background-color: #f0f8ff;}input.sk-toggleable__control:checked~div.sk-toggleable__content {max-height: 200px;max-width: 100%;overflow: auto;}div.sk-estimator input.sk-toggleable__control:checked~label.sk-toggleable__label {background-color: #d4ebff;}div.sk-label input.sk-toggleable__control:checked~label.sk-toggleable__label {background-color: #d4ebff;}input.sk-hidden--visually {border: 0;clip: rect(1px 1px 1px 1px);clip: rect(1px, 1px, 1px, 1px);height: 1px;margin: -1px;overflow: hidden;padding: 0;position: absolute;width: 1px;}div.sk-estimator {font-family: monospace;background-color: #f0f8ff;margin: 0.25em 0.25em;border: 1px dotted black;border-radius: 0.25em;box-sizing: border-box;}div.sk-estimator:hover {background-color: #d4ebff;}div.sk-parallel-item::after {content: \"\";width: 100%;border-bottom: 1px solid gray;flex-grow: 1;}div.sk-label:hover label.sk-toggleable__label {background-color: #d4ebff;}div.sk-serial::before {content: \"\";position: absolute;border-left: 1px solid gray;box-sizing: border-box;top: 2em;bottom: 0;left: 50%;}div.sk-serial {display: flex;flex-direction: column;align-items: center;background-color: white;}div.sk-item {z-index: 1;}div.sk-parallel {display: flex;align-items: stretch;justify-content: center;background-color: white;}div.sk-parallel-item {display: flex;flex-direction: column;position: relative;background-color: white;}div.sk-parallel-item:first-child::after {align-self: flex-end;width: 50%;}div.sk-parallel-item:last-child::after {align-self: flex-start;width: 50%;}div.sk-parallel-item:only-child::after {width: 0;}div.sk-dashed-wrapped {border: 1px dashed gray;margin: 0.2em;box-sizing: border-box;padding-bottom: 0.1em;background-color: white;position: relative;}div.sk-label label {font-family: monospace;font-weight: bold;background-color: white;display: inline-block;line-height: 1.2em;}div.sk-label-container {position: relative;z-index: 2;text-align: center;}div.sk-container {display: inline-block;position: relative;}</style><div class=\"sk-top-container\"><div class=\"sk-container\"><div class=\"sk-item sk-dashed-wrapped\"><div class=\"sk-label-container\"><div class=\"sk-label sk-toggleable\"><input class=\"sk-toggleable__control sk-hidden--visually\" id=\"3804f7aa-fbb1-4e53-9ac3-13214ee44043\" type=\"checkbox\" ><label class=\"sk-toggleable__label\" for=\"3804f7aa-fbb1-4e53-9ac3-13214ee44043\">Pipeline</label><div class=\"sk-toggleable__content\"><pre>Pipeline(steps=[('transformations',\n",
              "                 ColumnTransformer(transformers=[('categoric_data',\n",
              "                                                  Pipeline(steps=[('imputer',\n",
              "                                                                   SimpleImputer(strategy='most_frequent')),\n",
              "                                                                  ('ohe',\n",
              "                                                                   OneHotEncoder(handle_unknown='ignore',\n",
              "                                                                                 sparse=False))]),\n",
              "                                                  ['AgeClass', 'BMIClass']),\n",
              "                                                 ('numeric_data',\n",
              "                                                  Pipeline(steps=[('imputer',\n",
              "                                                                   SimpleImputer(strategy='most_frequent')),\n",
              "                                                                  ('scaler',\n",
              "                                                                   StandardScaler())]),\n",
              "                                                  ['Pregnancies', 'Glucose',\n",
              "                                                   'BloodPressure',\n",
              "                                                   'SkinThickness', 'Insulin',\n",
              "                                                   'DiabetesPedigreeFunction'])])),\n",
              "                ('logit', LogisticRegression())])</pre></div></div></div><div class=\"sk-serial\"><div class=\"sk-item sk-dashed-wrapped\"><div class=\"sk-label-container\"><div class=\"sk-label sk-toggleable\"><input class=\"sk-toggleable__control sk-hidden--visually\" id=\"3ae0e2c6-9cdb-4346-a14c-b1430daccfea\" type=\"checkbox\" ><label class=\"sk-toggleable__label\" for=\"3ae0e2c6-9cdb-4346-a14c-b1430daccfea\">transformations: ColumnTransformer</label><div class=\"sk-toggleable__content\"><pre>ColumnTransformer(transformers=[('categoric_data',\n",
              "                                 Pipeline(steps=[('imputer',\n",
              "                                                  SimpleImputer(strategy='most_frequent')),\n",
              "                                                 ('ohe',\n",
              "                                                  OneHotEncoder(handle_unknown='ignore',\n",
              "                                                                sparse=False))]),\n",
              "                                 ['AgeClass', 'BMIClass']),\n",
              "                                ('numeric_data',\n",
              "                                 Pipeline(steps=[('imputer',\n",
              "                                                  SimpleImputer(strategy='most_frequent')),\n",
              "                                                 ('scaler', StandardScaler())]),\n",
              "                                 ['Pregnancies', 'Glucose', 'BloodPressure',\n",
              "                                  'SkinThickness', 'Insulin',\n",
              "                                  'DiabetesPedigreeFunction'])])</pre></div></div></div><div class=\"sk-parallel\"><div class=\"sk-parallel-item\"><div class=\"sk-item\"><div class=\"sk-label-container\"><div class=\"sk-label sk-toggleable\"><input class=\"sk-toggleable__control sk-hidden--visually\" id=\"b7067396-b3a5-4b78-848e-53b0c433114a\" type=\"checkbox\" ><label class=\"sk-toggleable__label\" for=\"b7067396-b3a5-4b78-848e-53b0c433114a\">categoric_data</label><div class=\"sk-toggleable__content\"><pre>['AgeClass', 'BMIClass']</pre></div></div></div><div class=\"sk-serial\"><div class=\"sk-item\"><div class=\"sk-serial\"><div class=\"sk-item\"><div class=\"sk-estimator sk-toggleable\"><input class=\"sk-toggleable__control sk-hidden--visually\" id=\"aa2ee315-9516-452e-b849-cb25e16011a3\" type=\"checkbox\" ><label class=\"sk-toggleable__label\" for=\"aa2ee315-9516-452e-b849-cb25e16011a3\">SimpleImputer</label><div class=\"sk-toggleable__content\"><pre>SimpleImputer(strategy='most_frequent')</pre></div></div></div><div class=\"sk-item\"><div class=\"sk-estimator sk-toggleable\"><input class=\"sk-toggleable__control sk-hidden--visually\" id=\"ba08c477-edfb-4e36-b7fb-48bf718ce2f6\" type=\"checkbox\" ><label class=\"sk-toggleable__label\" for=\"ba08c477-edfb-4e36-b7fb-48bf718ce2f6\">OneHotEncoder</label><div class=\"sk-toggleable__content\"><pre>OneHotEncoder(handle_unknown='ignore', sparse=False)</pre></div></div></div></div></div></div></div></div><div class=\"sk-parallel-item\"><div class=\"sk-item\"><div class=\"sk-label-container\"><div class=\"sk-label sk-toggleable\"><input class=\"sk-toggleable__control sk-hidden--visually\" id=\"a640c390-42cd-4438-8ea4-5affaacb3d2b\" type=\"checkbox\" ><label class=\"sk-toggleable__label\" for=\"a640c390-42cd-4438-8ea4-5affaacb3d2b\">numeric_data</label><div class=\"sk-toggleable__content\"><pre>['Pregnancies', 'Glucose', 'BloodPressure', 'SkinThickness', 'Insulin', 'DiabetesPedigreeFunction']</pre></div></div></div><div class=\"sk-serial\"><div class=\"sk-item\"><div class=\"sk-serial\"><div class=\"sk-item\"><div class=\"sk-estimator sk-toggleable\"><input class=\"sk-toggleable__control sk-hidden--visually\" id=\"b1a7a0e2-7cd0-4588-b979-147874f7ea08\" type=\"checkbox\" ><label class=\"sk-toggleable__label\" for=\"b1a7a0e2-7cd0-4588-b979-147874f7ea08\">SimpleImputer</label><div class=\"sk-toggleable__content\"><pre>SimpleImputer(strategy='most_frequent')</pre></div></div></div><div class=\"sk-item\"><div class=\"sk-estimator sk-toggleable\"><input class=\"sk-toggleable__control sk-hidden--visually\" id=\"fa527bca-cdd2-4427-97df-ea1db1ccb5da\" type=\"checkbox\" ><label class=\"sk-toggleable__label\" for=\"fa527bca-cdd2-4427-97df-ea1db1ccb5da\">StandardScaler</label><div class=\"sk-toggleable__content\"><pre>StandardScaler()</pre></div></div></div></div></div></div></div></div></div></div><div class=\"sk-item\"><div class=\"sk-estimator sk-toggleable\"><input class=\"sk-toggleable__control sk-hidden--visually\" id=\"f79c810f-e7b7-4c3b-8d65-e72aaf58088c\" type=\"checkbox\" ><label class=\"sk-toggleable__label\" for=\"f79c810f-e7b7-4c3b-8d65-e72aaf58088c\">LogisticRegression</label><div class=\"sk-toggleable__content\"><pre>LogisticRegression()</pre></div></div></div></div></div></div></div>"
            ],
            "text/plain": [
              "Pipeline(steps=[('transformations',\n",
              "                 ColumnTransformer(transformers=[('categoric_data',\n",
              "                                                  Pipeline(steps=[('imputer',\n",
              "                                                                   SimpleImputer(strategy='most_frequent')),\n",
              "                                                                  ('ohe',\n",
              "                                                                   OneHotEncoder(handle_unknown='ignore',\n",
              "                                                                                 sparse=False))]),\n",
              "                                                  ['AgeClass', 'BMIClass']),\n",
              "                                                 ('numeric_data',\n",
              "                                                  Pipeline(steps=[('imputer',\n",
              "                                                                   SimpleImputer(strategy='most_frequent')),\n",
              "                                                                  ('scaler',\n",
              "                                                                   StandardScaler())]),\n",
              "                                                  ['Pregnancies', 'Glucose',\n",
              "                                                   'BloodPressure',\n",
              "                                                   'SkinThickness', 'Insulin',\n",
              "                                                   'DiabetesPedigreeFunction'])])),\n",
              "                ('logit', LogisticRegression())])"
            ]
          },
          "metadata": {}
        }
      ]
    },
    {
      "cell_type": "code",
      "metadata": {
        "id": "9pncidGv8JVp"
      },
      "source": [
        "# Fitting the whole pipeline and model to the training set\n",
        "final_pipe.fit(X_train, y_train)\n",
        "# Tryng to predict the y_test using X_test\n",
        "y_pred = final_pipe.predict(X_test)"
      ],
      "execution_count": 48,
      "outputs": []
    },
    {
      "cell_type": "code",
      "metadata": {
        "id": "D8e6Q55e8fBK"
      },
      "source": [
        "from sklearn.metrics import accuracy_score, recall_score, precision_score"
      ],
      "execution_count": 49,
      "outputs": []
    },
    {
      "cell_type": "code",
      "metadata": {
        "id": "fEoRpumV8hs5"
      },
      "source": [
        "acc = accuracy_score(y_test, y_pred)\n",
        "rec = recall_score(y_test, y_pred)\n",
        "prec = precision_score(y_test, y_pred)"
      ],
      "execution_count": 50,
      "outputs": []
    },
    {
      "cell_type": "code",
      "metadata": {
        "colab": {
          "base_uri": "https://localhost:8080/"
        },
        "id": "Ci4KJ9Gu8tor",
        "outputId": "39c0485b-bacc-47be-e9b5-7c09bd5f07df"
      },
      "source": [
        "print(f\"The results of our model are:\")\n",
        "print(f\"Accuracy: {acc}\")\n",
        "print(f\"Recall: {rec}\")\n",
        "print(f\"Precision: {prec}\")"
      ],
      "execution_count": 51,
      "outputs": [
        {
          "output_type": "stream",
          "name": "stdout",
          "text": [
            "The results of our model are:\n",
            "Accuracy: 0.7402597402597403\n",
            "Recall: 0.5555555555555556\n",
            "Precision: 0.6521739130434783\n"
          ]
        }
      ]
    }
  ]
}